{
 "cells": [
  {
   "cell_type": "code",
   "id": "initial_id",
   "metadata": {
    "collapsed": true,
    "ExecuteTime": {
     "end_time": "2024-12-11T17:20:52.589223Z",
     "start_time": "2024-12-11T17:20:50.934103Z"
    }
   },
   "source": [
    "# from tqdm import tqdm\n",
    "from tqdm.notebook import tqdm\n",
    "\n",
    "\n",
    "import json \n",
    "# import pandas as pd\n",
    "# import polars as pl\n",
    "import unicodedata\n",
    "\n",
    "import polars as pl\n",
    "import torch\n",
    "# import torch.nn as nn\n",
    "# import torch.optim as optim\n",
    "from torch.utils.data import Dataset#, DataLoader\n",
    "import numpy as np\n",
    "from sentence_transformers import SentenceTransformer"
   ],
   "outputs": [],
   "execution_count": 1
  },
  {
   "metadata": {},
   "cell_type": "code",
   "source": [
    "# from tqdm.notebook import tqdm\n",
    "# import time\n",
    "# \n",
    "# for i in tqdm(range(5)):\n",
    "#     for j in tqdm(range(100), leave=False):\n",
    "#         time.sleep(0.01)\n"
   ],
   "id": "8e4f8c10d5f0b2bb",
   "outputs": [],
   "execution_count": null
  },
  {
   "metadata": {
    "ExecuteTime": {
     "end_time": "2024-12-11T17:20:54.448850Z",
     "start_time": "2024-12-11T17:20:53.381726Z"
    }
   },
   "cell_type": "code",
   "source": [
    "df_train = pl.read_csv(\"../data/1_train_test_split/df_train.csv\")\n",
    "df_test = pl.read_csv(\"../data/1_train_test_split/df_test.csv\")\n",
    "df_validation = pl.read_csv(\"../data/1_train_test_split/df_validation.csv\")\n",
    "\n",
    "train_texts = df_train[\"text\"].to_list()\n",
    "train_labels = df_train[\"stars\"].to_list()\n",
    "\n",
    "test_texts = df_test[\"text\"].to_list()\n",
    "test_labels = df_test[\"stars\"].to_list()\n",
    "\n",
    "val_texts = df_validation[\"text\"].to_list()\n",
    "val_labels = df_validation[\"stars\"].to_list()"
   ],
   "id": "2786140c1f29618d",
   "outputs": [],
   "execution_count": 2
  },
  {
   "metadata": {
    "jupyter": {
     "is_executing": true
    },
    "ExecuteTime": {
     "start_time": "2024-12-11T17:20:55.339152Z"
    }
   },
   "cell_type": "code",
   "source": [
    "# embed text\n",
    "# model_name = \"sentence-transformers/all-MiniLM-L6-v2\"\n",
    "model_name = \"intfloat/multilingual-e5-large-instruct\"\n",
    "embedder = SentenceTransformer(model_name, device=\"cuda\")"
   ],
   "id": "7982d7135efb1309",
   "outputs": [],
   "execution_count": null
  },
  {
   "metadata": {
    "ExecuteTime": {
     "end_time": "2024-12-11T14:52:41.453352Z",
     "start_time": "2024-12-11T14:52:18.875275Z"
    }
   },
   "cell_type": "code",
   "source": [
    "# train_embeddings = embedder.encode(train_texts, batch_size=32, convert_to_numpy=True, show_progress_bar=True)\n",
    "train_embeddings = embedder.encode(train_texts, batch_size=512, convert_to_numpy=True, show_progress_bar={'enabled': True, 'force_console_output': True})"
   ],
   "id": "9b7cfc199f23e822",
   "outputs": [
    {
     "data": {
      "text/plain": [
       "Batches:   0%|          | 0/1661 [00:00<?, ?it/s]"
      ],
      "application/vnd.jupyter.widget-view+json": {
       "version_major": 2,
       "version_minor": 0,
       "model_id": "ccb2b8b554e4425fa22506e52d2bc001"
      }
     },
     "metadata": {},
     "output_type": "display_data"
    },
    {
     "ename": "KeyboardInterrupt",
     "evalue": "",
     "output_type": "error",
     "traceback": [
      "\u001B[0;31m---------------------------------------------------------------------------\u001B[0m",
      "\u001B[0;31mKeyboardInterrupt\u001B[0m                         Traceback (most recent call last)",
      "Cell \u001B[0;32mIn[5], line 2\u001B[0m\n\u001B[1;32m      1\u001B[0m \u001B[38;5;66;03m# train_embeddings = embedder.encode(train_texts, batch_size=32, convert_to_numpy=True, show_progress_bar=True)\u001B[39;00m\n\u001B[0;32m----> 2\u001B[0m train_embeddings \u001B[38;5;241m=\u001B[39m \u001B[43membedder\u001B[49m\u001B[38;5;241;43m.\u001B[39;49m\u001B[43mencode\u001B[49m\u001B[43m(\u001B[49m\u001B[43mtrain_texts\u001B[49m\u001B[43m,\u001B[49m\u001B[43m \u001B[49m\u001B[43mbatch_size\u001B[49m\u001B[38;5;241;43m=\u001B[39;49m\u001B[38;5;241;43m512\u001B[39;49m\u001B[43m,\u001B[49m\u001B[43m \u001B[49m\u001B[43mconvert_to_numpy\u001B[49m\u001B[38;5;241;43m=\u001B[39;49m\u001B[38;5;28;43;01mTrue\u001B[39;49;00m\u001B[43m,\u001B[49m\u001B[43m \u001B[49m\u001B[43mshow_progress_bar\u001B[49m\u001B[38;5;241;43m=\u001B[39;49m\u001B[43m{\u001B[49m\u001B[38;5;124;43m'\u001B[39;49m\u001B[38;5;124;43menabled\u001B[39;49m\u001B[38;5;124;43m'\u001B[39;49m\u001B[43m:\u001B[49m\u001B[43m \u001B[49m\u001B[38;5;28;43;01mTrue\u001B[39;49;00m\u001B[43m,\u001B[49m\u001B[43m \u001B[49m\u001B[38;5;124;43m'\u001B[39;49m\u001B[38;5;124;43mforce_console_output\u001B[39;49m\u001B[38;5;124;43m'\u001B[39;49m\u001B[43m:\u001B[49m\u001B[43m \u001B[49m\u001B[38;5;28;43;01mTrue\u001B[39;49;00m\u001B[43m}\u001B[49m\u001B[43m)\u001B[49m\n",
      "File \u001B[0;32m~/miniconda3/envs/gofaster00/lib/python3.12/site-packages/sentence_transformers/SentenceTransformer.py:652\u001B[0m, in \u001B[0;36mSentenceTransformer.encode\u001B[0;34m(self, sentences, prompt_name, prompt, batch_size, show_progress_bar, output_value, precision, convert_to_numpy, convert_to_tensor, device, normalize_embeddings, **kwargs)\u001B[0m\n\u001B[1;32m    650\u001B[0m             \u001B[38;5;66;03m# fixes for #522 and #487 to avoid oom problems on gpu with large datasets\u001B[39;00m\n\u001B[1;32m    651\u001B[0m             \u001B[38;5;28;01mif\u001B[39;00m convert_to_numpy:\n\u001B[0;32m--> 652\u001B[0m                 embeddings \u001B[38;5;241m=\u001B[39m \u001B[43membeddings\u001B[49m\u001B[38;5;241;43m.\u001B[39;49m\u001B[43mcpu\u001B[49m\u001B[43m(\u001B[49m\u001B[43m)\u001B[49m\n\u001B[1;32m    654\u001B[0m         all_embeddings\u001B[38;5;241m.\u001B[39mextend(embeddings)\n\u001B[1;32m    656\u001B[0m all_embeddings \u001B[38;5;241m=\u001B[39m [all_embeddings[idx] \u001B[38;5;28;01mfor\u001B[39;00m idx \u001B[38;5;129;01min\u001B[39;00m np\u001B[38;5;241m.\u001B[39margsort(length_sorted_idx)]\n",
      "\u001B[0;31mKeyboardInterrupt\u001B[0m: "
     ]
    }
   ],
   "execution_count": 5
  },
  {
   "metadata": {
    "ExecuteTime": {
     "end_time": "2024-12-09T19:10:53.489719Z",
     "start_time": "2024-12-09T19:10:22.990226Z"
    }
   },
   "cell_type": "code",
   "source": "test_embeddings = embedder.encode(test_texts, batch_size=128, convert_to_numpy=True, show_progress_bar={'enabled': True, 'force_console_output': True})",
   "id": "362e3dcd64bfedf0",
   "outputs": [
    {
     "data": {
      "text/plain": [
       "Batches:   0%|          | 0/1162 [00:00<?, ?it/s]"
      ],
      "application/vnd.jupyter.widget-view+json": {
       "version_major": 2,
       "version_minor": 0,
       "model_id": "6ec3c81d0fba4c80809716549f47413f"
      }
     },
     "metadata": {},
     "output_type": "display_data"
    }
   ],
   "execution_count": 5
  },
  {
   "metadata": {
    "ExecuteTime": {
     "end_time": "2024-12-09T19:10:53.736004Z",
     "start_time": "2024-12-09T19:10:53.501530Z"
    }
   },
   "cell_type": "code",
   "source": "val_embeddings = embedder.encode(val_texts, batch_size=128, convert_to_numpy=True, show_progress_bar={'enabled': True, 'force_console_output': True})",
   "id": "58b4c41caeefc9f4",
   "outputs": [
    {
     "data": {
      "text/plain": [
       "Batches:   0%|          | 0/8 [00:00<?, ?it/s]"
      ],
      "application/vnd.jupyter.widget-view+json": {
       "version_major": 2,
       "version_minor": 0,
       "model_id": "89afc0ae2b064055babb27bfe24dcd2c"
      }
     },
     "metadata": {},
     "output_type": "display_data"
    }
   ],
   "execution_count": 6
  },
  {
   "metadata": {
    "ExecuteTime": {
     "end_time": "2024-12-09T19:10:53.742448Z",
     "start_time": "2024-12-09T19:10:53.740755Z"
    }
   },
   "cell_type": "code",
   "source": [
    "class StarRatingDataset(Dataset):\n",
    "    def __init__(self, X, y):\n",
    "        self.X = X\n",
    "        self.y = y\n",
    "    def __len__(self):\n",
    "        return len(self.X)\n",
    "    def __getitem__(self, idx):\n",
    "        x = torch.tensor(self.X[idx], dtype=torch.float32)\n",
    "        # Convert label to a one-hot vector: label in {1,...,5} -> one-hot of length 5\n",
    "        y_onehot = torch.zeros(5)\n",
    "        y_onehot[self.y[idx]-1] = 1.0\n",
    "        return x, y_onehot"
   ],
   "id": "b72d97ec5deec44a",
   "outputs": [],
   "execution_count": 7
  },
  {
   "metadata": {
    "ExecuteTime": {
     "end_time": "2024-12-09T19:11:08.636550Z",
     "start_time": "2024-12-09T19:10:53.780981Z"
    }
   },
   "cell_type": "code",
   "source": [
    "train_dataset = StarRatingDataset(train_embeddings, train_labels)\n",
    "test_dataset = StarRatingDataset(test_embeddings, test_labels)\n",
    "val_dataset = StarRatingDataset(val_embeddings, val_labels)\n",
    "\n",
    "# torch.save(train_dataset, '../data/2_training_ready/embedding00/train_dataset00.pth')\n",
    "# torch.save(test_dataset, '../data/2_training_ready/embedding00/test_dataset00.pth')\n",
    "# torch.save(val_dataset, '../data/2_training_ready/embedding00/val_dataset00.pth')\n",
    "\n",
    "torch.save(train_dataset, '../data/2_training_ready/embedding00/train_dataset01.pth')\n",
    "torch.save(test_dataset, '../data/2_training_ready/embedding00/test_dataset01.pth')\n",
    "torch.save(val_dataset, '../data/2_training_ready/embedding00/val_dataset01.pth')"
   ],
   "id": "9dae8e8a54044325",
   "outputs": [],
   "execution_count": 8
  },
  {
   "metadata": {},
   "cell_type": "code",
   "source": [
    "# train_dataset = torch.load('train_dataset.pth')\n",
    "# test_dataset = torch.load('test_dataset.pth')\n"
   ],
   "id": "7562746bf7359818",
   "outputs": [],
   "execution_count": null
  }
 ],
 "metadata": {
  "kernelspec": {
   "display_name": "Python 3",
   "language": "python",
   "name": "python3"
  },
  "language_info": {
   "codemirror_mode": {
    "name": "ipython",
    "version": 2
   },
   "file_extension": ".py",
   "mimetype": "text/x-python",
   "name": "python",
   "nbconvert_exporter": "python",
   "pygments_lexer": "ipython2",
   "version": "2.7.6"
  }
 },
 "nbformat": 4,
 "nbformat_minor": 5
}
