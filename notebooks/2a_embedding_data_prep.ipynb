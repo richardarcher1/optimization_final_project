{
 "cells": [
  {
   "cell_type": "code",
   "id": "initial_id",
   "metadata": {
    "collapsed": true,
    "ExecuteTime": {
     "end_time": "2024-12-11T19:21:41.170507Z",
     "start_time": "2024-12-11T19:21:38.536947Z"
    }
   },
   "source": [
    "# from tqdm import tqdm\n",
    "from tqdm.notebook import tqdm\n",
    "\n",
    "\n",
    "import json \n",
    "# import pandas as pd\n",
    "# import polars as pl\n",
    "import unicodedata\n",
    "\n",
    "import polars as pl\n",
    "import torch\n",
    "# import torch.nn as nn\n",
    "# import torch.optim as optim\n",
    "from torch.utils.data import Dataset#, DataLoader\n",
    "import numpy as np\n",
    "from sentence_transformers import SentenceTransformer"
   ],
   "outputs": [],
   "execution_count": 1
  },
  {
   "metadata": {
    "ExecuteTime": {
     "end_time": "2024-12-11T19:21:42.242673Z",
     "start_time": "2024-12-11T19:21:41.176478Z"
    }
   },
   "cell_type": "code",
   "source": [
    "df_train = pl.read_csv(\"../data/1_train_test_split/df_train.csv\")\n",
    "df_test = pl.read_csv(\"../data/1_train_test_split/df_test.csv\")\n",
    "df_validation = pl.read_csv(\"../data/1_train_test_split/df_validation.csv\")\n",
    "\n",
    "train_texts = df_train[\"text\"].to_list()\n",
    "train_labels = df_train[\"stars\"].to_list()\n",
    "\n",
    "test_texts = df_test[\"text\"].to_list()\n",
    "test_labels = df_test[\"stars\"].to_list()\n",
    "\n",
    "val_texts = df_validation[\"text\"].to_list()\n",
    "val_labels = df_validation[\"stars\"].to_list()"
   ],
   "id": "2786140c1f29618d",
   "outputs": [],
   "execution_count": 2
  },
  {
   "metadata": {
    "ExecuteTime": {
     "end_time": "2024-12-11T19:21:45.393436Z",
     "start_time": "2024-12-11T19:21:42.457837Z"
    }
   },
   "cell_type": "code",
   "source": [
    "# embed text\n",
    "# model_name = \"sentence-transformers/all-MiniLM-L6-v2\"\n",
    "model_name = \"intfloat/multilingual-e5-large-instruct\"\n",
    "embedder = SentenceTransformer(model_name, device=\"cuda\")"
   ],
   "id": "7982d7135efb1309",
   "outputs": [],
   "execution_count": 3
  },
  {
   "metadata": {},
   "cell_type": "code",
   "source": [
    "# train_embeddings = embedder.encode(train_texts, batch_size=32, convert_to_numpy=True, show_progress_bar=True)\n",
    "# train_embeddings = embedder.encode(train_texts, batch_size=512, convert_to_numpy=True, show_progress_bar={'enabled': True, 'force_console_output': True})"
   ],
   "id": "9b7cfc199f23e822",
   "outputs": [],
   "execution_count": null
  },
  {
   "metadata": {
    "ExecuteTime": {
     "end_time": "2024-12-11T19:28:58.147987Z",
     "start_time": "2024-12-11T19:21:45.397076Z"
    }
   },
   "cell_type": "code",
   "source": "test_embeddings = embedder.encode(test_texts, batch_size=16, convert_to_numpy=True, show_progress_bar={'enabled': True, 'force_console_output': True})",
   "id": "8fffe37bab680af3",
   "outputs": [
    {
     "data": {
      "text/plain": [
       "Batches:   0%|          | 0/9289 [00:00<?, ?it/s]"
      ],
      "application/vnd.jupyter.widget-view+json": {
       "version_major": 2,
       "version_minor": 0,
       "model_id": "bf66d4bcef1b419f82df14ea482f331f"
      }
     },
     "metadata": {},
     "output_type": "display_data"
    }
   ],
   "execution_count": 4
  },
  {
   "metadata": {
    "ExecuteTime": {
     "end_time": "2024-12-11T19:29:01.151293Z",
     "start_time": "2024-12-11T19:28:58.155294Z"
    }
   },
   "cell_type": "code",
   "source": "val_embeddings = embedder.encode(val_texts, batch_size=16, convert_to_numpy=True, show_progress_bar={'enabled': True, 'force_console_output': True})",
   "id": "beca47b30dc7504e",
   "outputs": [
    {
     "data": {
      "text/plain": [
       "Batches:   0%|          | 0/64 [00:00<?, ?it/s]"
      ],
      "application/vnd.jupyter.widget-view+json": {
       "version_major": 2,
       "version_minor": 0,
       "model_id": "5438d52acc2448f5a49c73b8850ab5c5"
      }
     },
     "metadata": {},
     "output_type": "display_data"
    }
   ],
   "execution_count": 5
  },
  {
   "metadata": {
    "ExecuteTime": {
     "end_time": "2024-12-11T19:29:01.157920Z",
     "start_time": "2024-12-11T19:29:01.156151Z"
    }
   },
   "cell_type": "code",
   "source": [
    "class StarRatingDataset(Dataset):\n",
    "    def __init__(self, X, y):\n",
    "        self.X = X\n",
    "        self.y = y\n",
    "    def __len__(self):\n",
    "        return len(self.X)\n",
    "    def __getitem__(self, idx):\n",
    "        x = torch.tensor(self.X[idx], dtype=torch.float32)\n",
    "        # Convert label to a one-hot vector: label in {1,...,5} -> one-hot of length 5\n",
    "        y_onehot = torch.zeros(5)\n",
    "        y_onehot[self.y[idx]-1] = 1.0\n",
    "        return x, y_onehot"
   ],
   "id": "b72d97ec5deec44a",
   "outputs": [],
   "execution_count": 6
  },
  {
   "metadata": {
    "ExecuteTime": {
     "end_time": "2024-12-11T19:29:07.143695Z",
     "start_time": "2024-12-11T19:29:01.198908Z"
    }
   },
   "cell_type": "code",
   "source": [
    "# train_dataset = StarRatingDataset(train_embeddings, train_labels)\n",
    "test_dataset = StarRatingDataset(test_embeddings, test_labels)\n",
    "val_dataset = StarRatingDataset(val_embeddings, val_labels)\n",
    "\n",
    "# torch.save(train_dataset, '../data/2_training_ready/embedding00/train_dataset00.pth')\n",
    "# torch.save(test_dataset, '../data/2_training_ready/embedding00/test_dataset00.pth')\n",
    "# torch.save(val_dataset, '../data/2_training_ready/embedding00/val_dataset00.pth')\n",
    "\n",
    "# torch.save(train_dataset, '../data/2_training_ready/embedding00/train_dataset01.pth')\n",
    "torch.save(test_dataset, '../data/2_training_ready/embedding00/test_dataset01.pth')\n",
    "torch.save(val_dataset, '../data/2_training_ready/embedding00/val_dataset01.pth')"
   ],
   "id": "9dae8e8a54044325",
   "outputs": [],
   "execution_count": 7
  },
  {
   "metadata": {},
   "cell_type": "code",
   "source": [
    "# train_dataset = torch.load('train_dataset.pth')\n",
    "# test_dataset = torch.load('test_dataset.pth')\n"
   ],
   "id": "7562746bf7359818",
   "outputs": [],
   "execution_count": null
  },
  {
   "metadata": {},
   "cell_type": "code",
   "source": "",
   "id": "e43e35fdd5dd8464",
   "outputs": [],
   "execution_count": null
  },
  {
   "metadata": {},
   "cell_type": "code",
   "source": "",
   "id": "c6ec8dea008531d6",
   "outputs": [],
   "execution_count": null
  },
  {
   "metadata": {
    "ExecuteTime": {
     "end_time": "2024-12-11T19:29:07.149885Z",
     "start_time": "2024-12-11T19:29:07.148262Z"
    }
   },
   "cell_type": "code",
   "source": "len(train_texts)",
   "id": "f5e436c2be929d37",
   "outputs": [
    {
     "data": {
      "text/plain": [
       "850373"
      ]
     },
     "execution_count": 8,
     "metadata": {},
     "output_type": "execute_result"
    }
   ],
   "execution_count": 8
  },
  {
   "metadata": {
    "ExecuteTime": {
     "end_time": "2024-12-11T19:38:35.372248Z",
     "start_time": "2024-12-11T19:29:07.216611Z"
    }
   },
   "cell_type": "code",
   "source": [
    "# CHANGE THIS CELL\n",
    "train_texts_batch = train_texts[0:200_000]\n",
    "train_labels_batch = train_labels[0:200_000]\n",
    "PATH_ = '../data/2_training_ready/embedding00/train_dataset01.pth'\n",
    "\n",
    "# THIS CELL CONSTANT\n",
    "# train_embeddings = embedder.encode(train_texts, batch_size=32, convert_to_numpy=True, show_progress_bar=True)\n",
    "train_embeddings = embedder.encode(train_texts_batch, batch_size=16, convert_to_numpy=True, show_progress_bar={'enabled': True, 'force_console_output': True})\n",
    "train_dataset = StarRatingDataset(train_embeddings, train_labels_batch)\n",
    "torch.save(train_dataset, PATH_)\n"
   ],
   "id": "33bd807fc1dd6ebe",
   "outputs": [
    {
     "data": {
      "text/plain": [
       "Batches:   0%|          | 0/12500 [00:00<?, ?it/s]"
      ],
      "application/vnd.jupyter.widget-view+json": {
       "version_major": 2,
       "version_minor": 0,
       "model_id": "372d4feb799c47d2a2a4e1af8db47aae"
      }
     },
     "metadata": {},
     "output_type": "display_data"
    }
   ],
   "execution_count": 9
  },
  {
   "metadata": {
    "ExecuteTime": {
     "end_time": "2024-12-11T19:55:28.534564Z",
     "start_time": "2024-12-11T19:45:47.080336Z"
    }
   },
   "cell_type": "code",
   "source": [
    "\n",
    "# CHANGE THIS CELL\n",
    "train_texts_batch = train_texts[200_000:400_000]\n",
    "train_labels_batch = train_labels[200_000:400_000]\n",
    "PATH_ = '../data/2_training_ready/embedding00/train_dataset02.pth'\n",
    "\n",
    "# THIS CELL CONSTANT\n",
    "# train_embeddings = embedder.encode(train_texts, batch_size=32, convert_to_numpy=True, show_progress_bar=True)\n",
    "train_embeddings = embedder.encode(train_texts_batch, batch_size=16, convert_to_numpy=True, show_progress_bar={'enabled': True, 'force_console_output': True})\n",
    "train_dataset = StarRatingDataset(train_embeddings, train_labels_batch)\n",
    "torch.save(train_dataset, PATH_)\n"
   ],
   "id": "51e6f7429b1559a5",
   "outputs": [
    {
     "data": {
      "text/plain": [
       "Batches:   0%|          | 0/12500 [00:00<?, ?it/s]"
      ],
      "application/vnd.jupyter.widget-view+json": {
       "version_major": 2,
       "version_minor": 0,
       "model_id": "9f92adb9c3094c2f9905be3030606987"
      }
     },
     "metadata": {},
     "output_type": "display_data"
    }
   ],
   "execution_count": 10
  },
  {
   "metadata": {
    "ExecuteTime": {
     "end_time": "2024-12-11T20:05:34.276519Z",
     "start_time": "2024-12-11T19:55:28.537775Z"
    }
   },
   "cell_type": "code",
   "source": [
    "\n",
    "# CHANGE THIS CELL\n",
    "train_texts_batch = train_texts[400_000:600_000]\n",
    "train_labels_batch = train_labels[400_000:600_000]\n",
    "PATH_ = '../data/2_training_ready/embedding00/train_dataset03.pth'\n",
    "\n",
    "# THIS CELL CONSTANT\n",
    "# train_embeddings = embedder.encode(train_texts, batch_size=32, convert_to_numpy=True, show_progress_bar=True)\n",
    "train_embeddings = embedder.encode(train_texts_batch, batch_size=16, convert_to_numpy=True, show_progress_bar={'enabled': True, 'force_console_output': True})\n",
    "train_dataset = StarRatingDataset(train_embeddings, train_labels_batch)\n",
    "torch.save(train_dataset, PATH_)\n"
   ],
   "id": "a651bcdba5dcfd3d",
   "outputs": [
    {
     "data": {
      "text/plain": [
       "Batches:   0%|          | 0/12500 [00:00<?, ?it/s]"
      ],
      "application/vnd.jupyter.widget-view+json": {
       "version_major": 2,
       "version_minor": 0,
       "model_id": "e0a4af6b982741d1872aa919238571c5"
      }
     },
     "metadata": {},
     "output_type": "display_data"
    }
   ],
   "execution_count": 11
  },
  {
   "metadata": {
    "ExecuteTime": {
     "end_time": "2024-12-11T20:17:30.170837Z",
     "start_time": "2024-12-11T20:05:34.281823Z"
    }
   },
   "cell_type": "code",
   "source": [
    "\n",
    "# CHANGE THIS CELL\n",
    "train_texts_batch = train_texts[600_000:]\n",
    "train_labels_batch = train_labels[600_000:]\n",
    "PATH_ = '../data/2_training_ready/embedding00/train_dataset04.pth'\n",
    "\n",
    "# THIS CELL CONSTANT\n",
    "# train_embeddings = embedder.encode(train_texts, batch_size=32, convert_to_numpy=True, show_progress_bar=True)\n",
    "train_embeddings = embedder.encode(train_texts_batch, batch_size=16, convert_to_numpy=True, show_progress_bar={'enabled': True, 'force_console_output': True})\n",
    "train_dataset = StarRatingDataset(train_embeddings, train_labels_batch)\n",
    "torch.save(train_dataset, PATH_)\n"
   ],
   "id": "fe9bde1511c49041",
   "outputs": [
    {
     "data": {
      "text/plain": [
       "Batches:   0%|          | 0/15649 [00:00<?, ?it/s]"
      ],
      "application/vnd.jupyter.widget-view+json": {
       "version_major": 2,
       "version_minor": 0,
       "model_id": "0d64653e1be74092b59b9590c5289bab"
      }
     },
     "metadata": {},
     "output_type": "display_data"
    }
   ],
   "execution_count": 12
  }
 ],
 "metadata": {
  "kernelspec": {
   "display_name": "Python 3",
   "language": "python",
   "name": "python3"
  },
  "language_info": {
   "codemirror_mode": {
    "name": "ipython",
    "version": 2
   },
   "file_extension": ".py",
   "mimetype": "text/x-python",
   "name": "python",
   "nbconvert_exporter": "python",
   "pygments_lexer": "ipython2",
   "version": "2.7.6"
  }
 },
 "nbformat": 4,
 "nbformat_minor": 5
}
