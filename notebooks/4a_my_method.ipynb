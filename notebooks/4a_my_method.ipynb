{
 "cells": [
  {
   "metadata": {
    "ExecuteTime": {
     "end_time": "2024-12-12T00:32:57.861312Z",
     "start_time": "2024-12-12T00:32:55.974886Z"
    }
   },
   "cell_type": "code",
   "source": [
    "# from tqdm import tqdm\n",
    "from tqdm.notebook import tqdm\n",
    "\n",
    "import json \n",
    "import pandas as pd\n",
    "import polars as pl\n",
    "import unicodedata\n",
    "\n",
    "import polars as pl\n",
    "import torch\n",
    "import torch.nn as nn\n",
    "import torch.optim as optim\n",
    "from torch.utils.data import Dataset, DataLoader\n",
    "import numpy as np\n",
    "from sentence_transformers import SentenceTransformer\n",
    "\n",
    "import matplotlib.pyplot as plt"
   ],
   "id": "321c3b599e99dd96",
   "outputs": [],
   "execution_count": 1
  },
  {
   "metadata": {
    "ExecuteTime": {
     "end_time": "2024-12-12T00:32:57.866239Z",
     "start_time": "2024-12-12T00:32:57.864139Z"
    }
   },
   "cell_type": "code",
   "source": [
    "class EmbeddingDataset(Dataset):\n",
    "    def __init__(self, embeddings, labels):\n",
    "        # embeddings: list of numpy arrays or torch tensors\n",
    "        # labels: list of scalars\n",
    "        self.X = torch.tensor(embeddings, dtype=torch.float32)\n",
    "        self.y = torch.tensor(labels, dtype=torch.float16)  # or long, depending on your task\n",
    "       \n",
    "    def __len__(self):\n",
    "        return len(self.y)\n",
    "    \n",
    "    def __getitem__(self, idx):\n",
    "        return self.X[idx], self.y[idx]"
   ],
   "id": "f30b5142bb7a35b3",
   "outputs": [],
   "execution_count": 2
  },
  {
   "metadata": {
    "ExecuteTime": {
     "end_time": "2024-12-12T00:32:58.238613Z",
     "start_time": "2024-12-12T00:32:58.211441Z"
    }
   },
   "cell_type": "code",
   "source": "val = torch.load(\"../data/2_training_ready/mymethod/take00/val.pt\")",
   "id": "c19e0b0656f086a0",
   "outputs": [
    {
     "name": "stderr",
     "output_type": "stream",
     "text": [
      "/tmp/ipykernel_10371/4087980410.py:1: FutureWarning: You are using `torch.load` with `weights_only=False` (the current default value), which uses the default pickle module implicitly. It is possible to construct malicious pickle data which will execute arbitrary code during unpickling (See https://github.com/pytorch/pytorch/blob/main/SECURITY.md#untrusted-models for more details). In a future release, the default value for `weights_only` will be flipped to `True`. This limits the functions that could be executed during unpickling. Arbitrary objects will no longer be allowed to be loaded via this mode unless they are explicitly allowlisted by the user via `torch.serialization.add_safe_globals`. We recommend you start setting `weights_only=True` for any use case where you don't have full control of the loaded file. Please open an issue on GitHub for any issues related to this experimental feature.\n",
      "  val = torch.load(\"../data/2_training_ready/mymethod/take00/val.pt\")\n"
     ]
    }
   ],
   "execution_count": 3
  },
  {
   "metadata": {
    "ExecuteTime": {
     "end_time": "2024-12-12T00:33:01.174508Z",
     "start_time": "2024-12-12T00:32:59.515792Z"
    }
   },
   "cell_type": "code",
   "source": "testing = torch.load(\"../data/2_training_ready/mymethod/take00/testing.pt\")",
   "id": "a0c9404482ec7ea",
   "outputs": [
    {
     "name": "stderr",
     "output_type": "stream",
     "text": [
      "/tmp/ipykernel_10371/669655271.py:1: FutureWarning: You are using `torch.load` with `weights_only=False` (the current default value), which uses the default pickle module implicitly. It is possible to construct malicious pickle data which will execute arbitrary code during unpickling (See https://github.com/pytorch/pytorch/blob/main/SECURITY.md#untrusted-models for more details). In a future release, the default value for `weights_only` will be flipped to `True`. This limits the functions that could be executed during unpickling. Arbitrary objects will no longer be allowed to be loaded via this mode unless they are explicitly allowlisted by the user via `torch.serialization.add_safe_globals`. We recommend you start setting `weights_only=True` for any use case where you don't have full control of the loaded file. Please open an issue on GitHub for any issues related to this experimental feature.\n",
      "  testing = torch.load(\"../data/2_training_ready/mymethod/take00/testing.pt\")\n"
     ]
    }
   ],
   "execution_count": 4
  },
  {
   "metadata": {
    "ExecuteTime": {
     "end_time": "2024-12-12T00:33:09.376294Z",
     "start_time": "2024-12-12T00:33:01.179362Z"
    }
   },
   "cell_type": "code",
   "source": [
    "training1 = torch.load(\"../data/2_training_ready/mymethod/take00/training1.pt\")\n",
    "training2 = torch.load(\"../data/2_training_ready/mymethod/take00/training2.pt\")\n",
    "training3 = torch.load(\"../data/2_training_ready/mymethod/take00/training3.pt\")\n",
    "training4 = torch.load(\"../data/2_training_ready/mymethod/take00/training4.pt\")"
   ],
   "id": "cc21c2155c3a0939",
   "outputs": [
    {
     "name": "stderr",
     "output_type": "stream",
     "text": [
      "/tmp/ipykernel_10371/4131447330.py:1: FutureWarning: You are using `torch.load` with `weights_only=False` (the current default value), which uses the default pickle module implicitly. It is possible to construct malicious pickle data which will execute arbitrary code during unpickling (See https://github.com/pytorch/pytorch/blob/main/SECURITY.md#untrusted-models for more details). In a future release, the default value for `weights_only` will be flipped to `True`. This limits the functions that could be executed during unpickling. Arbitrary objects will no longer be allowed to be loaded via this mode unless they are explicitly allowlisted by the user via `torch.serialization.add_safe_globals`. We recommend you start setting `weights_only=True` for any use case where you don't have full control of the loaded file. Please open an issue on GitHub for any issues related to this experimental feature.\n",
      "  training1 = torch.load(\"../data/2_training_ready/mymethod/take00/training1.pt\")\n",
      "/tmp/ipykernel_10371/4131447330.py:2: FutureWarning: You are using `torch.load` with `weights_only=False` (the current default value), which uses the default pickle module implicitly. It is possible to construct malicious pickle data which will execute arbitrary code during unpickling (See https://github.com/pytorch/pytorch/blob/main/SECURITY.md#untrusted-models for more details). In a future release, the default value for `weights_only` will be flipped to `True`. This limits the functions that could be executed during unpickling. Arbitrary objects will no longer be allowed to be loaded via this mode unless they are explicitly allowlisted by the user via `torch.serialization.add_safe_globals`. We recommend you start setting `weights_only=True` for any use case where you don't have full control of the loaded file. Please open an issue on GitHub for any issues related to this experimental feature.\n",
      "  training2 = torch.load(\"../data/2_training_ready/mymethod/take00/training2.pt\")\n",
      "/tmp/ipykernel_10371/4131447330.py:3: FutureWarning: You are using `torch.load` with `weights_only=False` (the current default value), which uses the default pickle module implicitly. It is possible to construct malicious pickle data which will execute arbitrary code during unpickling (See https://github.com/pytorch/pytorch/blob/main/SECURITY.md#untrusted-models for more details). In a future release, the default value for `weights_only` will be flipped to `True`. This limits the functions that could be executed during unpickling. Arbitrary objects will no longer be allowed to be loaded via this mode unless they are explicitly allowlisted by the user via `torch.serialization.add_safe_globals`. We recommend you start setting `weights_only=True` for any use case where you don't have full control of the loaded file. Please open an issue on GitHub for any issues related to this experimental feature.\n",
      "  training3 = torch.load(\"../data/2_training_ready/mymethod/take00/training3.pt\")\n",
      "/tmp/ipykernel_10371/4131447330.py:4: FutureWarning: You are using `torch.load` with `weights_only=False` (the current default value), which uses the default pickle module implicitly. It is possible to construct malicious pickle data which will execute arbitrary code during unpickling (See https://github.com/pytorch/pytorch/blob/main/SECURITY.md#untrusted-models for more details). In a future release, the default value for `weights_only` will be flipped to `True`. This limits the functions that could be executed during unpickling. Arbitrary objects will no longer be allowed to be loaded via this mode unless they are explicitly allowlisted by the user via `torch.serialization.add_safe_globals`. We recommend you start setting `weights_only=True` for any use case where you don't have full control of the loaded file. Please open an issue on GitHub for any issues related to this experimental feature.\n",
      "  training4 = torch.load(\"../data/2_training_ready/mymethod/take00/training4.pt\")\n"
     ]
    }
   ],
   "execution_count": 5
  },
  {
   "metadata": {
    "ExecuteTime": {
     "end_time": "2024-12-12T00:33:12.294168Z",
     "start_time": "2024-12-12T00:33:09.379235Z"
    }
   },
   "cell_type": "code",
   "source": [
    "# # Combine the embeddings and labels\n",
    "combined_embeddings = torch.cat([training1.X, training2.X, training3.X,training4.X], dim=0)\n",
    "combined_labels = torch.cat([training1.y, training2.y, training3.y,training4.y], dim=0)\n",
    "# \n",
    "# # Create a new EmbeddingDataset with the combined data\n",
    "training = EmbeddingDataset(combined_embeddings.numpy(), combined_labels.numpy())"
   ],
   "id": "3fb7774148641387",
   "outputs": [],
   "execution_count": 6
  },
  {
   "metadata": {
    "ExecuteTime": {
     "end_time": "2024-12-11T15:26:12.321041Z",
     "start_time": "2024-12-11T15:26:12.319786Z"
    }
   },
   "cell_type": "code",
   "source": [
    "# Combine the embeddings and labels\n",
    "# combined_embeddings = torch.cat([training1.X, training2.X, training3.X], dim=0)\n",
    "# combined_labels = torch.cat([training1.y, training2.y, training3.y], dim=0)\n",
    "\n",
    "# Create a new EmbeddingDataset with the combined data\n",
    "# training = EmbeddingDataset(combined_embeddings.numpy(), combined_labels.numpy())"
   ],
   "id": "3a23c2f701b5ea98",
   "outputs": [],
   "execution_count": 7
  },
  {
   "metadata": {
    "ExecuteTime": {
     "end_time": "2024-12-11T15:26:12.363271Z",
     "start_time": "2024-12-11T15:26:12.361997Z"
    }
   },
   "cell_type": "code",
   "source": [
    "# OG \n",
    "# class SimpleNN(nn.Module):\n",
    "#     def __init__(self, input_dim, hidden_dim, output_dim):\n",
    "#         super(SimpleNN, self).__init__()\n",
    "#         self.model = nn.Sequential(\n",
    "#             nn.Linear(input_dim, hidden_dim),\n",
    "#             # nn.ReLU(),\n",
    "#             # nn.Linear(hidden_dim, hidden_dim),\n",
    "#             nn.ReLU(),\n",
    "#             nn.Linear(hidden_dim, output_dim)\n",
    "#         )\n",
    "# \n",
    "#     def forward(self, x):\n",
    "#         return self.model(x)"
   ],
   "id": "ee9a8b8aa4dd9fb5",
   "outputs": [],
   "execution_count": 8
  },
  {
   "metadata": {
    "ExecuteTime": {
     "end_time": "2024-12-11T15:26:12.405354Z",
     "start_time": "2024-12-11T15:26:12.404018Z"
    }
   },
   "cell_type": "code",
   "source": [
    "# class SimpleNN(nn.Module):\n",
    "#     def __init__(self, input_dim, hidden_dim, output_dim):\n",
    "#         super(SimpleNN, self).__init__()\n",
    "#         self.model = nn.Sequential(\n",
    "#             nn.Linear(input_dim, hidden_dim),\n",
    "#             nn.ReLU(),\n",
    "#             nn.Dropout(0.1),\n",
    "#             nn.Linear(hidden_dim, hidden_dim),\n",
    "#             nn.ReLU(),\n",
    "#             nn.Dropout(0.1),\n",
    "#             nn.Linear(hidden_dim, output_dim)\n",
    "#         )\n",
    "# \n",
    "#     def forward(self, x):\n",
    "#         return self.model(x)"
   ],
   "id": "6bb0528c6ee70002",
   "outputs": [],
   "execution_count": 9
  },
  {
   "metadata": {
    "ExecuteTime": {
     "end_time": "2024-12-12T00:33:12.303750Z",
     "start_time": "2024-12-12T00:33:12.301852Z"
    }
   },
   "cell_type": "code",
   "source": [
    "class SimpleNN(nn.Module):\n",
    "    def __init__(self, input_dim=4096, hidden_dim_1=2048,hidden_dim_2=1_024, output_dim=5, dropout=0.1):\n",
    "        super(SimpleNN, self).__init__()\n",
    "        self.model = nn.Sequential(\n",
    "            nn.Linear(input_dim, hidden_dim_1),\n",
    "            nn.LayerNorm(hidden_dim_1),\n",
    "            nn.LeakyReLU(),\n",
    "            nn.Dropout(dropout),\n",
    "            # nn.Linear(hidden_dim, hidden_dim),\n",
    "            nn.Linear(hidden_dim_1, hidden_dim_2),\n",
    "            nn.LayerNorm(hidden_dim_2),\n",
    "            nn.LeakyReLU(),\n",
    "            nn.Dropout(dropout),\n",
    "            nn.Linear(hidden_dim_2, output_dim)\n",
    "        )\n",
    "\n",
    "    def forward(self, x):\n",
    "        return self.model(x)\n"
   ],
   "id": "13b8aaea6dc402c4",
   "outputs": [],
   "execution_count": 7
  },
  {
   "metadata": {
    "ExecuteTime": {
     "end_time": "2024-12-12T00:33:12.343492Z",
     "start_time": "2024-12-12T00:33:12.341974Z"
    }
   },
   "cell_type": "code",
   "source": [
    "# Set up your dataset and dataloaders\n",
    "batch_size = 256\n",
    "train_loader = DataLoader(training, batch_size=batch_size, shuffle=True)\n",
    "test_loader = DataLoader(testing, batch_size=batch_size, shuffle=False)\n"
   ],
   "id": "53ae71a83b4f5d6e",
   "outputs": [],
   "execution_count": 8
  },
  {
   "metadata": {
    "ExecuteTime": {
     "end_time": "2024-12-12T00:33:12.386930Z",
     "start_time": "2024-12-12T00:33:12.385278Z"
    }
   },
   "cell_type": "code",
   "source": [
    "# Convert dataset labels to integers (class indices)\n",
    "training.y = training.y.long()  # Keep 1-based indexing for star ratings\n",
    "testing.y = testing.y.long()  # Keep 1-based indexing for star ratings\n",
    "val.y = val.y.long()"
   ],
   "id": "c5e445345b66270",
   "outputs": [],
   "execution_count": 9
  },
  {
   "metadata": {
    "ExecuteTime": {
     "end_time": "2024-12-12T00:33:12.893994Z",
     "start_time": "2024-12-12T00:33:12.427695Z"
    }
   },
   "cell_type": "code",
   "source": [
    "# Define model, loss function, and optimizer\n",
    "input_dim = training.X.shape[1]  # Number of features in the embeddings\n",
    "hidden_dim = 2048\n",
    "output_dim = len(torch.unique(training.y))  # Number of classes\n",
    "\n",
    "model = SimpleNN(input_dim, hidden_dim, output_dim).to(\"cuda\")\n",
    "criterion = nn.CrossEntropyLoss()\n",
    "# optimizer = optim.Adam(model.parameters(), lr=1e-5)\n",
    "# optimizer = optim.AdamW(model.parameters(), lr=1e-5)\n",
    "\n",
    "# optimizer = optim.AdamW(model.parameters(), lr=1e-5, weight_decay=1e-5)\n",
    "# scheduler = torch.optim.lr_scheduler.StepLR(optimizer, step_size=1, gamma=0.1)\n",
    "\n",
    "optimizer = optim.AdamW(model.parameters(), lr=1e-4, weight_decay=1e-5)\n",
    "scheduler = torch.optim.lr_scheduler.ExponentialLR(optimizer, gamma=0.631)"
   ],
   "id": "f7ba23f94693ff07",
   "outputs": [],
   "execution_count": 10
  },
  {
   "metadata": {
    "ExecuteTime": {
     "end_time": "2024-12-11T15:26:13.121528Z",
     "start_time": "2024-12-11T15:26:13.119860Z"
    }
   },
   "cell_type": "code",
   "source": [
    "# Training and evaluation loops\n",
    "def evaluate(model, data_loader):\n",
    "    model.eval()\n",
    "    correct = 0\n",
    "    total = 0\n",
    "    with torch.no_grad():\n",
    "        for X, y in data_loader:\n",
    "            X = X.to(\"cuda\")\n",
    "            y = y.to(\"cuda\")\n",
    "            outputs = model(X)\n",
    "            _, predicted = torch.max(outputs, 1)\n",
    "            correct += (predicted + 1 == y).sum().item()  # Adjust prediction for 1-based indexing\n",
    "            total += y.size(0)\n",
    "    accuracy = correct / total\n",
    "    return accuracy\n"
   ],
   "id": "da543e2e70d4c22",
   "outputs": [],
   "execution_count": 14
  },
  {
   "metadata": {
    "ExecuteTime": {
     "end_time": "2024-12-11T15:26:13.161345Z",
     "start_time": "2024-12-11T15:26:13.160064Z"
    }
   },
   "cell_type": "code",
   "source": [
    "# num_epochs = 10\n",
    "num_epochs = 15\n",
    "# log_interval = 1_500\n",
    "log_interval = 500"
   ],
   "id": "d6f1844af62c2d21",
   "outputs": [],
   "execution_count": 15
  },
  {
   "metadata": {
    "ExecuteTime": {
     "end_time": "2024-12-11T15:29:30.621950Z",
     "start_time": "2024-12-11T15:26:13.201912Z"
    }
   },
   "cell_type": "code",
   "source": [
    "step = 0\n",
    "\n",
    "train_losses = []\n",
    "eval_accuracies = []\n",
    "learning_rates = []  # New list to track learning rates\n",
    "\n",
    "for epoch in range(num_epochs):\n",
    "    current_lr = optimizer.param_groups[0]['lr']\n",
    "    learning_rates.append((epoch, current_lr))\n",
    "    # learning_rates.append(current_lr)\n",
    "    \n",
    "    model.train()\n",
    "    pbar = tqdm(train_loader, desc=f\"Epoch {epoch + 1}/{num_epochs}\")\n",
    "    running_loss = 0.0\n",
    "\n",
    "    for X, y in pbar:\n",
    "        X = X.to(\"cuda\")\n",
    "        y = y.to(\"cuda\")\n",
    "        # Forward pass\n",
    "        outputs = model(X)\n",
    "        loss = criterion(outputs, y - 1)  # Shift labels for 0-based indexing during training\n",
    "        \n",
    "        # Backward pass and optimization\n",
    "        optimizer.zero_grad()\n",
    "        loss.backward()\n",
    "        optimizer.step()\n",
    "        \n",
    "\n",
    "        running_loss += loss.item()\n",
    "        step += 1\n",
    "\n",
    "        # Log progress every log_interval steps\n",
    "        if step % log_interval == 0:\n",
    "            eval_accuracy = evaluate(model, test_loader)\n",
    "            eval_accuracies.append((step, eval_accuracy))\n",
    "            print(f\"Step {step}, Loss: {loss.item():.4f}, Eval Accuracy: {eval_accuracy:.4f}\")\n",
    "\n",
    "    train_losses.append(running_loss / len(train_loader))\n",
    "    scheduler.step()\n",
    "\n"
   ],
   "id": "af019d7a8ce3fc35",
   "outputs": [
    {
     "data": {
      "text/plain": [
       "Epoch 1/15:   0%|          | 0/3322 [00:00<?, ?it/s]"
      ],
      "application/vnd.jupyter.widget-view+json": {
       "version_major": 2,
       "version_minor": 0,
       "model_id": "2f57d123ee164167b4a6e5b756f0e1a2"
      }
     },
     "metadata": {},
     "output_type": "display_data"
    },
    {
     "name": "stdout",
     "output_type": "stream",
     "text": [
      "Step 500, Loss: 1.4203, Eval Accuracy: 0.4865\n",
      "Step 1000, Loss: 1.2308, Eval Accuracy: 0.6728\n",
      "Step 1500, Loss: 1.0831, Eval Accuracy: 0.7023\n",
      "Step 2000, Loss: 1.0607, Eval Accuracy: 0.7025\n",
      "Step 2500, Loss: 0.9126, Eval Accuracy: 0.6965\n",
      "Step 3000, Loss: 0.8042, Eval Accuracy: 0.6967\n"
     ]
    },
    {
     "data": {
      "text/plain": [
       "Epoch 2/15:   0%|          | 0/3322 [00:00<?, ?it/s]"
      ],
      "application/vnd.jupyter.widget-view+json": {
       "version_major": 2,
       "version_minor": 0,
       "model_id": "561c6132a0504e67959f172d1f181c63"
      }
     },
     "metadata": {},
     "output_type": "display_data"
    },
    {
     "name": "stdout",
     "output_type": "stream",
     "text": [
      "Step 3500, Loss: 0.8138, Eval Accuracy: 0.7090\n",
      "Step 4000, Loss: 0.7010, Eval Accuracy: 0.7125\n",
      "Step 4500, Loss: 0.7052, Eval Accuracy: 0.7129\n",
      "Step 5000, Loss: 0.7577, Eval Accuracy: 0.7218\n",
      "Step 5500, Loss: 0.7502, Eval Accuracy: 0.7241\n",
      "Step 6000, Loss: 0.6753, Eval Accuracy: 0.7246\n",
      "Step 6500, Loss: 0.6525, Eval Accuracy: 0.7198\n"
     ]
    },
    {
     "data": {
      "text/plain": [
       "Epoch 3/15:   0%|          | 0/3322 [00:00<?, ?it/s]"
      ],
      "application/vnd.jupyter.widget-view+json": {
       "version_major": 2,
       "version_minor": 0,
       "model_id": "77f071dc682344d28e65d04693d9d06b"
      }
     },
     "metadata": {},
     "output_type": "display_data"
    },
    {
     "name": "stdout",
     "output_type": "stream",
     "text": [
      "Step 7000, Loss: 0.7484, Eval Accuracy: 0.7196\n",
      "Step 7500, Loss: 0.7499, Eval Accuracy: 0.7269\n",
      "Step 8000, Loss: 0.7363, Eval Accuracy: 0.7267\n",
      "Step 8500, Loss: 0.6768, Eval Accuracy: 0.7266\n",
      "Step 9000, Loss: 0.7234, Eval Accuracy: 0.7237\n",
      "Step 9500, Loss: 0.6114, Eval Accuracy: 0.7291\n"
     ]
    },
    {
     "data": {
      "text/plain": [
       "Epoch 4/15:   0%|          | 0/3322 [00:00<?, ?it/s]"
      ],
      "application/vnd.jupyter.widget-view+json": {
       "version_major": 2,
       "version_minor": 0,
       "model_id": "eaa5784845e34963b4b23f5d300c82c1"
      }
     },
     "metadata": {},
     "output_type": "display_data"
    },
    {
     "name": "stdout",
     "output_type": "stream",
     "text": [
      "Step 10000, Loss: 0.7531, Eval Accuracy: 0.7283\n",
      "Step 10500, Loss: 0.6152, Eval Accuracy: 0.7268\n",
      "Step 11000, Loss: 0.6452, Eval Accuracy: 0.7306\n",
      "Step 11500, Loss: 0.6344, Eval Accuracy: 0.7310\n",
      "Step 12000, Loss: 0.5757, Eval Accuracy: 0.7318\n",
      "Step 12500, Loss: 0.6954, Eval Accuracy: 0.7312\n",
      "Step 13000, Loss: 0.6254, Eval Accuracy: 0.7317\n"
     ]
    },
    {
     "data": {
      "text/plain": [
       "Epoch 5/15:   0%|          | 0/3322 [00:00<?, ?it/s]"
      ],
      "application/vnd.jupyter.widget-view+json": {
       "version_major": 2,
       "version_minor": 0,
       "model_id": "82673ab6788e4742a1e9ad0ca215aa5c"
      }
     },
     "metadata": {},
     "output_type": "display_data"
    },
    {
     "name": "stdout",
     "output_type": "stream",
     "text": [
      "Step 13500, Loss: 0.7966, Eval Accuracy: 0.7307\n",
      "Step 14000, Loss: 0.5861, Eval Accuracy: 0.7329\n",
      "Step 14500, Loss: 0.6280, Eval Accuracy: 0.7313\n",
      "Step 15000, Loss: 0.7055, Eval Accuracy: 0.7336\n",
      "Step 15500, Loss: 0.6567, Eval Accuracy: 0.7331\n",
      "Step 16000, Loss: 0.5964, Eval Accuracy: 0.7311\n",
      "Step 16500, Loss: 0.6168, Eval Accuracy: 0.7338\n"
     ]
    },
    {
     "data": {
      "text/plain": [
       "Epoch 6/15:   0%|          | 0/3322 [00:00<?, ?it/s]"
      ],
      "application/vnd.jupyter.widget-view+json": {
       "version_major": 2,
       "version_minor": 0,
       "model_id": "01bdb80818b7458f90dcbb21c0f8bf85"
      }
     },
     "metadata": {},
     "output_type": "display_data"
    },
    {
     "name": "stdout",
     "output_type": "stream",
     "text": [
      "Step 17000, Loss: 0.6877, Eval Accuracy: 0.7330\n",
      "Step 17500, Loss: 0.6423, Eval Accuracy: 0.7342\n",
      "Step 18000, Loss: 0.6528, Eval Accuracy: 0.7331\n",
      "Step 18500, Loss: 0.6298, Eval Accuracy: 0.7345\n",
      "Step 19000, Loss: 0.6888, Eval Accuracy: 0.7354\n",
      "Step 19500, Loss: 0.6381, Eval Accuracy: 0.7346\n"
     ]
    },
    {
     "data": {
      "text/plain": [
       "Epoch 7/15:   0%|          | 0/3322 [00:00<?, ?it/s]"
      ],
      "application/vnd.jupyter.widget-view+json": {
       "version_major": 2,
       "version_minor": 0,
       "model_id": "7907cb87a23b418ca73915480215da1c"
      }
     },
     "metadata": {},
     "output_type": "display_data"
    },
    {
     "name": "stdout",
     "output_type": "stream",
     "text": [
      "Step 20000, Loss: 0.6908, Eval Accuracy: 0.7337\n",
      "Step 20500, Loss: 0.6049, Eval Accuracy: 0.7336\n",
      "Step 21000, Loss: 0.6064, Eval Accuracy: 0.7353\n",
      "Step 21500, Loss: 0.6131, Eval Accuracy: 0.7354\n",
      "Step 22000, Loss: 0.5734, Eval Accuracy: 0.7351\n",
      "Step 22500, Loss: 0.5642, Eval Accuracy: 0.7360\n",
      "Step 23000, Loss: 0.6658, Eval Accuracy: 0.7352\n"
     ]
    },
    {
     "data": {
      "text/plain": [
       "Epoch 8/15:   0%|          | 0/3322 [00:00<?, ?it/s]"
      ],
      "application/vnd.jupyter.widget-view+json": {
       "version_major": 2,
       "version_minor": 0,
       "model_id": "a4932c0485994412b9083b5fed631efc"
      }
     },
     "metadata": {},
     "output_type": "display_data"
    },
    {
     "name": "stdout",
     "output_type": "stream",
     "text": [
      "Step 23500, Loss: 0.7443, Eval Accuracy: 0.7352\n",
      "Step 24000, Loss: 0.6732, Eval Accuracy: 0.7365\n",
      "Step 24500, Loss: 0.5419, Eval Accuracy: 0.7359\n",
      "Step 25000, Loss: 0.5754, Eval Accuracy: 0.7361\n",
      "Step 25500, Loss: 0.6052, Eval Accuracy: 0.7358\n",
      "Step 26000, Loss: 0.5747, Eval Accuracy: 0.7362\n",
      "Step 26500, Loss: 0.6074, Eval Accuracy: 0.7364\n"
     ]
    },
    {
     "data": {
      "text/plain": [
       "Epoch 9/15:   0%|          | 0/3322 [00:00<?, ?it/s]"
      ],
      "application/vnd.jupyter.widget-view+json": {
       "version_major": 2,
       "version_minor": 0,
       "model_id": "03911585f54e4460bb592e8367db397d"
      }
     },
     "metadata": {},
     "output_type": "display_data"
    },
    {
     "name": "stdout",
     "output_type": "stream",
     "text": [
      "Step 27000, Loss: 0.7197, Eval Accuracy: 0.7363\n",
      "Step 27500, Loss: 0.6632, Eval Accuracy: 0.7366\n",
      "Step 28000, Loss: 0.6555, Eval Accuracy: 0.7363\n",
      "Step 28500, Loss: 0.6321, Eval Accuracy: 0.7367\n",
      "Step 29000, Loss: 0.6746, Eval Accuracy: 0.7367\n",
      "Step 29500, Loss: 0.5695, Eval Accuracy: 0.7366\n"
     ]
    },
    {
     "data": {
      "text/plain": [
       "Epoch 10/15:   0%|          | 0/3322 [00:00<?, ?it/s]"
      ],
      "application/vnd.jupyter.widget-view+json": {
       "version_major": 2,
       "version_minor": 0,
       "model_id": "4aaabffd3c7a4d808e48660935064903"
      }
     },
     "metadata": {},
     "output_type": "display_data"
    },
    {
     "name": "stdout",
     "output_type": "stream",
     "text": [
      "Step 30000, Loss: 0.6951, Eval Accuracy: 0.7368\n",
      "Step 30500, Loss: 0.5718, Eval Accuracy: 0.7369\n",
      "Step 31000, Loss: 0.6301, Eval Accuracy: 0.7367\n",
      "Step 31500, Loss: 0.6282, Eval Accuracy: 0.7371\n",
      "Step 32000, Loss: 0.6561, Eval Accuracy: 0.7366\n",
      "Step 32500, Loss: 0.5709, Eval Accuracy: 0.7371\n",
      "Step 33000, Loss: 0.6398, Eval Accuracy: 0.7370\n"
     ]
    },
    {
     "data": {
      "text/plain": [
       "Epoch 11/15:   0%|          | 0/3322 [00:00<?, ?it/s]"
      ],
      "application/vnd.jupyter.widget-view+json": {
       "version_major": 2,
       "version_minor": 0,
       "model_id": "b49eabb53a324972a7b904f9a9393f34"
      }
     },
     "metadata": {},
     "output_type": "display_data"
    },
    {
     "name": "stdout",
     "output_type": "stream",
     "text": [
      "Step 33500, Loss: 0.6962, Eval Accuracy: 0.7370\n",
      "Step 34000, Loss: 0.6558, Eval Accuracy: 0.7369\n",
      "Step 34500, Loss: 0.6428, Eval Accuracy: 0.7372\n",
      "Step 35000, Loss: 0.5508, Eval Accuracy: 0.7367\n",
      "Step 35500, Loss: 0.6055, Eval Accuracy: 0.7363\n",
      "Step 36000, Loss: 0.5924, Eval Accuracy: 0.7371\n",
      "Step 36500, Loss: 0.6006, Eval Accuracy: 0.7373\n"
     ]
    },
    {
     "data": {
      "text/plain": [
       "Epoch 12/15:   0%|          | 0/3322 [00:00<?, ?it/s]"
      ],
      "application/vnd.jupyter.widget-view+json": {
       "version_major": 2,
       "version_minor": 0,
       "model_id": "6f02da4bc1844b81a0f77d06de11598c"
      }
     },
     "metadata": {},
     "output_type": "display_data"
    },
    {
     "name": "stdout",
     "output_type": "stream",
     "text": [
      "Step 37000, Loss: 0.7534, Eval Accuracy: 0.7372\n",
      "Step 37500, Loss: 0.6168, Eval Accuracy: 0.7374\n",
      "Step 38000, Loss: 0.6560, Eval Accuracy: 0.7373\n",
      "Step 38500, Loss: 0.7098, Eval Accuracy: 0.7374\n",
      "Step 39000, Loss: 0.5672, Eval Accuracy: 0.7375\n",
      "Step 39500, Loss: 0.6443, Eval Accuracy: 0.7373\n"
     ]
    },
    {
     "data": {
      "text/plain": [
       "Epoch 13/15:   0%|          | 0/3322 [00:00<?, ?it/s]"
      ],
      "application/vnd.jupyter.widget-view+json": {
       "version_major": 2,
       "version_minor": 0,
       "model_id": "687b20a6b6604bd29bad7fedd6140abf"
      }
     },
     "metadata": {},
     "output_type": "display_data"
    },
    {
     "name": "stdout",
     "output_type": "stream",
     "text": [
      "Step 40000, Loss: 0.6430, Eval Accuracy: 0.7374\n",
      "Step 40500, Loss: 0.6420, Eval Accuracy: 0.7373\n",
      "Step 41000, Loss: 0.6018, Eval Accuracy: 0.7375\n",
      "Step 41500, Loss: 0.5842, Eval Accuracy: 0.7371\n",
      "Step 42000, Loss: 0.6441, Eval Accuracy: 0.7374\n",
      "Step 42500, Loss: 0.5719, Eval Accuracy: 0.7371\n",
      "Step 43000, Loss: 0.5961, Eval Accuracy: 0.7371\n"
     ]
    },
    {
     "data": {
      "text/plain": [
       "Epoch 14/15:   0%|          | 0/3322 [00:00<?, ?it/s]"
      ],
      "application/vnd.jupyter.widget-view+json": {
       "version_major": 2,
       "version_minor": 0,
       "model_id": "d53b3c5d5b9e4177982c75a308de1a93"
      }
     },
     "metadata": {},
     "output_type": "display_data"
    },
    {
     "name": "stdout",
     "output_type": "stream",
     "text": [
      "Step 43500, Loss: 0.7777, Eval Accuracy: 0.7374\n",
      "Step 44000, Loss: 0.5440, Eval Accuracy: 0.7375\n",
      "Step 44500, Loss: 0.6689, Eval Accuracy: 0.7375\n",
      "Step 45000, Loss: 0.5831, Eval Accuracy: 0.7373\n",
      "Step 45500, Loss: 0.7439, Eval Accuracy: 0.7376\n",
      "Step 46000, Loss: 0.6465, Eval Accuracy: 0.7375\n",
      "Step 46500, Loss: 0.5847, Eval Accuracy: 0.7374\n"
     ]
    },
    {
     "data": {
      "text/plain": [
       "Epoch 15/15:   0%|          | 0/3322 [00:00<?, ?it/s]"
      ],
      "application/vnd.jupyter.widget-view+json": {
       "version_major": 2,
       "version_minor": 0,
       "model_id": "58345de0fe81413894620fe2590aee8f"
      }
     },
     "metadata": {},
     "output_type": "display_data"
    },
    {
     "name": "stdout",
     "output_type": "stream",
     "text": [
      "Step 47000, Loss: 0.7327, Eval Accuracy: 0.7373\n",
      "Step 47500, Loss: 0.5702, Eval Accuracy: 0.7374\n",
      "Step 48000, Loss: 0.7014, Eval Accuracy: 0.7375\n",
      "Step 48500, Loss: 0.6048, Eval Accuracy: 0.7376\n",
      "Step 49000, Loss: 0.6154, Eval Accuracy: 0.7375\n",
      "Step 49500, Loss: 0.6699, Eval Accuracy: 0.7376\n"
     ]
    }
   ],
   "execution_count": 16
  },
  {
   "metadata": {
    "ExecuteTime": {
     "end_time": "2024-12-11T15:29:30.828628Z",
     "start_time": "2024-12-11T15:29:30.685426Z"
    }
   },
   "cell_type": "code",
   "source": [
    "# Plot training loss and evaluation accuracy\n",
    "plt.figure(figsize=(10, 5))\n",
    "plt.subplot(1, 2, 1)\n",
    "plt.plot(train_losses, label=\"Training Loss\")\n",
    "plt.xlabel(\"Epoch\")\n",
    "plt.ylabel(\"Loss\")\n",
    "plt.legend()\n",
    "plt.title(\"Training Loss\")\n",
    "\n",
    "plt.subplot(1, 2, 2)\n",
    "steps, accuracies = zip(*eval_accuracies)\n",
    "plt.plot(steps, accuracies, label=\"Evaluation Accuracy\")\n",
    "plt.xlabel(\"Step\")\n",
    "plt.ylabel(\"Accuracy\")\n",
    "plt.legend()\n",
    "plt.title(\"Evaluation Accuracy\")\n",
    "\n",
    "plt.tight_layout()\n",
    "plt.show()\n"
   ],
   "id": "326b72659e895102",
   "outputs": [
    {
     "data": {
      "text/plain": [
       "<Figure size 1000x500 with 2 Axes>"
      ],
      "image/png": "[encoded data removed]"
     },
     "metadata": {},
     "output_type": "display_data"
    }
   ],
   "execution_count": 17
  },
  {
   "metadata": {
    "ExecuteTime": {
     "end_time": "2024-12-11T15:29:31.014473Z",
     "start_time": "2024-12-11T15:29:30.847612Z"
    }
   },
   "cell_type": "code",
   "source": [
    "epochs, lrs = zip(*learning_rates)\n",
    "plt.figure(figsize=(10, 5))\n",
    "plt.plot(epochs, lrs, 'b-')\n",
    "plt.yscale('log')\n",
    "plt.xlabel('Epoch')\n",
    "plt.ylabel('Learning Rate')\n",
    "plt.title('Learning Rate Schedule')\n",
    "plt.grid(True)\n",
    "plt.show()"
   ],
   "id": "b2270458b47fdd03",
   "outputs": [
    {
     "data": {
      "text/plain": [
       "<Figure size 1000x500 with 1 Axes>"
      ],
      "image/png": "[encoded data removed]"
     },
     "metadata": {},
     "output_type": "display_data"
    }
   ],
   "execution_count": 18
  },
  {
   "metadata": {
    "ExecuteTime": {
     "end_time": "2024-12-11T15:29:31.048383Z",
     "start_time": "2024-12-11T15:29:31.038107Z"
    }
   },
   "cell_type": "code",
   "source": [
    "val_loader = DataLoader(val, batch_size=batch_size, shuffle=False)\n",
    "val_accuracy = evaluate(model, val_loader)\n",
    "print(f\"Validation Accuracy: {val_accuracy * 100:.2f}%\")"
   ],
   "id": "6a8573cc9c04ef1",
   "outputs": [
    {
     "name": "stdout",
     "output_type": "stream",
     "text": [
      "Validation Accuracy: 71.22%\n"
     ]
    }
   ],
   "execution_count": 19
  },
  {
   "metadata": {
    "ExecuteTime": {
     "end_time": "2024-12-11T15:29:31.082913Z",
     "start_time": "2024-12-11T15:29:31.081714Z"
    }
   },
   "cell_type": "code",
   "source": "",
   "id": "cf97d72c6af20ec8",
   "outputs": [],
   "execution_count": null
  },
  {
   "metadata": {
    "ExecuteTime": {
     "end_time": "2024-12-11T15:29:31.125047Z",
     "start_time": "2024-12-11T15:29:31.123990Z"
    }
   },
   "cell_type": "code",
   "source": "",
   "id": "6301dfee3aef6d3d",
   "outputs": [],
   "execution_count": null
  },
  {
   "metadata": {
    "ExecuteTime": {
     "end_time": "2024-12-11T15:29:31.167097Z",
     "start_time": "2024-12-11T15:29:31.166022Z"
    }
   },
   "cell_type": "code",
   "source": "",
   "id": "aae4c83faa5238c2",
   "outputs": [],
   "execution_count": null
  },
  {
   "metadata": {
    "ExecuteTime": {
     "end_time": "2024-12-11T15:29:31.209105Z",
     "start_time": "2024-12-11T15:29:31.208025Z"
    }
   },
   "cell_type": "code",
   "source": "",
   "id": "b0cf261934014d5c",
   "outputs": [],
   "execution_count": null
  },
  {
   "metadata": {
    "ExecuteTime": {
     "end_time": "2024-12-11T15:29:31.251568Z",
     "start_time": "2024-12-11T15:29:31.250011Z"
    }
   },
   "cell_type": "code",
   "source": [
    "# import torch\n",
    "# from torch.utils.data import DataLoader\n",
    "# import matplotlib.pyplot as plt\n",
    "# \n",
    "# # Gather all embeddings from the testing dataset into a single tensor\n",
    "# all_embeddings = []\n",
    "# for i in range(len(testing)):\n",
    "#     X, y = testing[i]  # X is embeddings, y is target\n",
    "#     # Ensure X is a tensor of shape [embedding_dim]\n",
    "#     # If not, you might need to reshape or extract the embedding part\n",
    "#     all_embeddings.append(X)\n",
    "# \n",
    "# test_embeddings = torch.stack(all_embeddings, dim=0)  # Shape: (N, D)\n",
    "# \n",
    "# # Compute per-dimension means and variances\n",
    "# dimension_means = test_embeddings.mean(dim=0)\n",
    "# dimension_vars = test_embeddings.var(dim=0, unbiased=False)\n",
    "# \n",
    "# print(\"Mean of means:\", dimension_means.mean().item())\n",
    "# print(\"Mean of variances:\", dimension_vars.mean().item())\n",
    "# \n",
    "# plt.figure(figsize=(10,4))\n",
    "# plt.subplot(1,2,1)\n",
    "# plt.hist(dimension_means.cpu().numpy(), bins=50, color='skyblue', edgecolor='black')\n",
    "# plt.title(\"Distribution of Per-Dimension Means\")\n",
    "# plt.xlabel(\"Mean Value\")\n",
    "# plt.ylabel(\"Frequency\")\n",
    "# \n",
    "# plt.subplot(1,2,2)\n",
    "# plt.hist(dimension_vars.cpu().numpy(), bins=50, color='lightgreen', edgecolor='black')\n",
    "# plt.title(\"Distribution of Per-Dimension Variances\")\n",
    "# plt.xlabel(\"Variance Value\")\n",
    "# plt.ylabel(\"Frequency\")\n",
    "# \n",
    "# plt.tight_layout()\n",
    "# plt.show()\n"
   ],
   "id": "22ec118080e0060f",
   "outputs": [],
   "execution_count": 20
  }
 ],
 "metadata": {
  "kernelspec": {
   "display_name": "Python 3",
   "language": "python",
   "name": "python3"
  },
  "language_info": {
   "codemirror_mode": {
    "name": "ipython",
    "version": 2
   },
   "file_extension": ".py",
   "mimetype": "text/x-python",
   "name": "python",
   "nbconvert_exporter": "python",
   "pygments_lexer": "ipython2",
   "version": "2.7.6"
  }
 },
 "nbformat": 4,
 "nbformat_minor": 5
}
