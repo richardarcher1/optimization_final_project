{
 "cells": [
  {
   "metadata": {
    "ExecuteTime": {
     "end_time": "2024-12-14T00:20:09.466345Z",
     "start_time": "2024-12-14T00:20:07.549041Z"
    }
   },
   "cell_type": "code",
   "source": [
    "# from tqdm import tqdm\n",
    "from tqdm.notebook import tqdm\n",
    "\n",
    "import json \n",
    "import pandas as pd\n",
    "import polars as pl\n",
    "import unicodedata\n",
    "\n",
    "import polars as pl\n",
    "import torch\n",
    "import torch.nn as nn\n",
    "import torch.optim as optim\n",
    "from torch.utils.data import Dataset, DataLoader\n",
    "import numpy as np\n",
    "from sentence_transformers import SentenceTransformer\n",
    "\n",
    "import matplotlib.pyplot as plt\n",
    "\n",
    "from torch.optim import Optimizer\n",
    "from torch.optim.lr_scheduler import _LRScheduler"
   ],
   "id": "321c3b599e99dd96",
   "outputs": [],
   "execution_count": 1
  },
  {
   "metadata": {
    "ExecuteTime": {
     "end_time": "2024-12-14T00:20:09.472627Z",
     "start_time": "2024-12-14T00:20:09.470545Z"
    }
   },
   "cell_type": "code",
   "source": [
    "class EmbeddingDataset(Dataset):\n",
    "    def __init__(self, embeddings, labels):\n",
    "        # embeddings: list of numpy arrays or torch tensors\n",
    "        # labels: list of scalars\n",
    "        self.X = torch.tensor(embeddings, dtype=torch.float32)\n",
    "        self.y = torch.tensor(labels, dtype=torch.float16)  # or long, depending on your task\n",
    "       \n",
    "    def __len__(self):\n",
    "        return len(self.y)\n",
    "    \n",
    "    def __getitem__(self, idx):\n",
    "        return self.X[idx], self.y[idx]"
   ],
   "id": "f30b5142bb7a35b3",
   "outputs": [],
   "execution_count": 2
  },
  {
   "metadata": {
    "ExecuteTime": {
     "end_time": "2024-12-14T00:20:09.529387Z",
     "start_time": "2024-12-14T00:20:09.521058Z"
    }
   },
   "cell_type": "code",
   "source": "val = torch.load(\"../data/2_training_ready/mymethod/take00/val.pt\")",
   "id": "c19e0b0656f086a0",
   "outputs": [
    {
     "name": "stderr",
     "output_type": "stream",
     "text": [
      "/tmp/ipykernel_6037/4087980410.py:1: FutureWarning: You are using `torch.load` with `weights_only=False` (the current default value), which uses the default pickle module implicitly. It is possible to construct malicious pickle data which will execute arbitrary code during unpickling (See https://github.com/pytorch/pytorch/blob/main/SECURITY.md#untrusted-models for more details). In a future release, the default value for `weights_only` will be flipped to `True`. This limits the functions that could be executed during unpickling. Arbitrary objects will no longer be allowed to be loaded via this mode unless they are explicitly allowlisted by the user via `torch.serialization.add_safe_globals`. We recommend you start setting `weights_only=True` for any use case where you don't have full control of the loaded file. Please open an issue on GitHub for any issues related to this experimental feature.\n",
      "  val = torch.load(\"../data/2_training_ready/mymethod/take00/val.pt\")\n"
     ]
    }
   ],
   "execution_count": 3
  },
  {
   "metadata": {
    "ExecuteTime": {
     "end_time": "2024-12-14T00:20:09.818142Z",
     "start_time": "2024-12-14T00:20:09.565795Z"
    }
   },
   "cell_type": "code",
   "source": "!ls ../data/2_training_ready/mymethod/take00",
   "id": "8c21702c821ae8ab",
   "outputs": [
    {
     "name": "stdout",
     "output_type": "stream",
     "text": [
      "testing.pt  training1.pt  training2.pt\ttraining3.pt  training4.pt  val.pt\r\n"
     ]
    }
   ],
   "execution_count": 4
  },
  {
   "metadata": {
    "ExecuteTime": {
     "end_time": "2024-12-14T00:20:11.500430Z",
     "start_time": "2024-12-14T00:20:09.821934Z"
    }
   },
   "cell_type": "code",
   "source": "testing = torch.load(\"../data/2_training_ready/mymethod/take00/testing.pt\") # TESTING",
   "id": "a0c9404482ec7ea",
   "outputs": [
    {
     "name": "stderr",
     "output_type": "stream",
     "text": [
      "/tmp/ipykernel_6037/1631147067.py:1: FutureWarning: You are using `torch.load` with `weights_only=False` (the current default value), which uses the default pickle module implicitly. It is possible to construct malicious pickle data which will execute arbitrary code during unpickling (See https://github.com/pytorch/pytorch/blob/main/SECURITY.md#untrusted-models for more details). In a future release, the default value for `weights_only` will be flipped to `True`. This limits the functions that could be executed during unpickling. Arbitrary objects will no longer be allowed to be loaded via this mode unless they are explicitly allowlisted by the user via `torch.serialization.add_safe_globals`. We recommend you start setting `weights_only=True` for any use case where you don't have full control of the loaded file. Please open an issue on GitHub for any issues related to this experimental feature.\n",
      "  testing = torch.load(\"../data/2_training_ready/mymethod/take00/testing.pt\") # TESTING\n"
     ]
    }
   ],
   "execution_count": 5
  },
  {
   "metadata": {
    "ExecuteTime": {
     "end_time": "2024-12-14T00:20:15.901268Z",
     "start_time": "2024-12-14T00:20:11.504093Z"
    }
   },
   "cell_type": "code",
   "source": [
    "training1 = torch.load(\"../data/2_training_ready/mymethod/take00/training1.pt\")\n",
    "training2 = torch.load(\"../data/2_training_ready/mymethod/take00/training2.pt\")\n",
    "training3 = torch.load(\"../data/2_training_ready/mymethod/take00/training3.pt\")\n",
    "training4 = torch.load(\"../data/2_training_ready/mymethod/take00/training4.pt\")"
   ],
   "id": "cc21c2155c3a0939",
   "outputs": [
    {
     "name": "stderr",
     "output_type": "stream",
     "text": [
      "/tmp/ipykernel_6037/4131447330.py:1: FutureWarning: You are using `torch.load` with `weights_only=False` (the current default value), which uses the default pickle module implicitly. It is possible to construct malicious pickle data which will execute arbitrary code during unpickling (See https://github.com/pytorch/pytorch/blob/main/SECURITY.md#untrusted-models for more details). In a future release, the default value for `weights_only` will be flipped to `True`. This limits the functions that could be executed during unpickling. Arbitrary objects will no longer be allowed to be loaded via this mode unless they are explicitly allowlisted by the user via `torch.serialization.add_safe_globals`. We recommend you start setting `weights_only=True` for any use case where you don't have full control of the loaded file. Please open an issue on GitHub for any issues related to this experimental feature.\n",
      "  training1 = torch.load(\"../data/2_training_ready/mymethod/take00/training1.pt\")\n",
      "/tmp/ipykernel_6037/4131447330.py:2: FutureWarning: You are using `torch.load` with `weights_only=False` (the current default value), which uses the default pickle module implicitly. It is possible to construct malicious pickle data which will execute arbitrary code during unpickling (See https://github.com/pytorch/pytorch/blob/main/SECURITY.md#untrusted-models for more details). In a future release, the default value for `weights_only` will be flipped to `True`. This limits the functions that could be executed during unpickling. Arbitrary objects will no longer be allowed to be loaded via this mode unless they are explicitly allowlisted by the user via `torch.serialization.add_safe_globals`. We recommend you start setting `weights_only=True` for any use case where you don't have full control of the loaded file. Please open an issue on GitHub for any issues related to this experimental feature.\n",
      "  training2 = torch.load(\"../data/2_training_ready/mymethod/take00/training2.pt\")\n",
      "/tmp/ipykernel_6037/4131447330.py:3: FutureWarning: You are using `torch.load` with `weights_only=False` (the current default value), which uses the default pickle module implicitly. It is possible to construct malicious pickle data which will execute arbitrary code during unpickling (See https://github.com/pytorch/pytorch/blob/main/SECURITY.md#untrusted-models for more details). In a future release, the default value for `weights_only` will be flipped to `True`. This limits the functions that could be executed during unpickling. Arbitrary objects will no longer be allowed to be loaded via this mode unless they are explicitly allowlisted by the user via `torch.serialization.add_safe_globals`. We recommend you start setting `weights_only=True` for any use case where you don't have full control of the loaded file. Please open an issue on GitHub for any issues related to this experimental feature.\n",
      "  training3 = torch.load(\"../data/2_training_ready/mymethod/take00/training3.pt\")\n",
      "/tmp/ipykernel_6037/4131447330.py:4: FutureWarning: You are using `torch.load` with `weights_only=False` (the current default value), which uses the default pickle module implicitly. It is possible to construct malicious pickle data which will execute arbitrary code during unpickling (See https://github.com/pytorch/pytorch/blob/main/SECURITY.md#untrusted-models for more details). In a future release, the default value for `weights_only` will be flipped to `True`. This limits the functions that could be executed during unpickling. Arbitrary objects will no longer be allowed to be loaded via this mode unless they are explicitly allowlisted by the user via `torch.serialization.add_safe_globals`. We recommend you start setting `weights_only=True` for any use case where you don't have full control of the loaded file. Please open an issue on GitHub for any issues related to this experimental feature.\n",
      "  training4 = torch.load(\"../data/2_training_ready/mymethod/take00/training4.pt\")\n"
     ]
    }
   ],
   "execution_count": 6
  },
  {
   "metadata": {
    "ExecuteTime": {
     "end_time": "2024-12-14T00:20:17.663388Z",
     "start_time": "2024-12-14T00:20:15.904726Z"
    }
   },
   "cell_type": "code",
   "source": [
    "# # Combine the embeddings and labels\n",
    "combined_embeddings = torch.cat([training1.X, training2.X, training3.X,training4.X], dim=0)\n",
    "combined_labels = torch.cat([training1.y, training2.y, training3.y,training4.y], dim=0)\n",
    "# \n",
    "# # Create a new EmbeddingDataset with the combined data\n",
    "training = EmbeddingDataset(combined_embeddings.numpy(), combined_labels.numpy())"
   ],
   "id": "3fb7774148641387",
   "outputs": [],
   "execution_count": 7
  },
  {
   "metadata": {
    "ExecuteTime": {
     "end_time": "2024-12-14T00:20:17.671293Z",
     "start_time": "2024-12-14T00:20:17.669231Z"
    }
   },
   "cell_type": "code",
   "source": [
    "class SimpleNN(nn.Module):\n",
    "    def __init__(self, input_dim=4_096, hidden_dim_1=2_048,hidden_dim_2=1_024, output_dim=5, dropout=0.2):\n",
    "        super(SimpleNN, self).__init__()\n",
    "        self.model = nn.Sequential(\n",
    "            nn.Linear(input_dim, hidden_dim_1),\n",
    "            nn.LayerNorm(hidden_dim_1),\n",
    "            nn.LeakyReLU(),\n",
    "            nn.Dropout(dropout),\n",
    "            # nn.Linear(hidden_dim, hidden_dim),\n",
    "            nn.Linear(hidden_dim_1, hidden_dim_2),\n",
    "            nn.LayerNorm(hidden_dim_2),\n",
    "            nn.LeakyReLU(),\n",
    "            nn.Dropout(dropout/2),\n",
    "            nn.Linear(hidden_dim_2, output_dim)\n",
    "        )\n",
    "\n",
    "    def forward(self, x):\n",
    "        return self.model(x)\n"
   ],
   "id": "13b8aaea6dc402c4",
   "outputs": [],
   "execution_count": 8
  },
  {
   "metadata": {
    "ExecuteTime": {
     "end_time": "2024-12-14T00:20:17.713Z",
     "start_time": "2024-12-14T00:20:17.711175Z"
    }
   },
   "cell_type": "code",
   "source": [
    "# Set up your dataset and dataloaders\n",
    "batch_size = 1_024\n",
    "train_loader = DataLoader(training, batch_size=batch_size, shuffle=True)\n",
    "test_loader = DataLoader(testing, batch_size=batch_size, shuffle=False)\n"
   ],
   "id": "53ae71a83b4f5d6e",
   "outputs": [],
   "execution_count": 9
  },
  {
   "metadata": {
    "ExecuteTime": {
     "end_time": "2024-12-14T00:20:17.755860Z",
     "start_time": "2024-12-14T00:20:17.754158Z"
    }
   },
   "cell_type": "code",
   "source": [
    "# Convert dataset labels to integers (class indices)\n",
    "training.y = training.y.long()  # Keep 1-based indexing for star ratings\n",
    "testing.y = testing.y.long()  # Keep 1-based indexing for star ratings\n",
    "val.y = val.y.long()"
   ],
   "id": "c5e445345b66270",
   "outputs": [],
   "execution_count": 10
  },
  {
   "metadata": {
    "ExecuteTime": {
     "end_time": "2024-12-14T00:20:18.310959Z",
     "start_time": "2024-12-14T00:20:17.797430Z"
    }
   },
   "cell_type": "code",
   "source": [
    "# Define model, loss function, and optimizer\n",
    "input_dim = training.X.shape[1]  # Number of features in the embeddings\n",
    "hidden_dim = 2048\n",
    "output_dim = len(torch.unique(training.y))  # Number of classes\n",
    "\n",
    "# model = SimpleNN(input_dim, hidden_dim, output_dim).to(\"cuda\")\n",
    "model = SimpleNN(input_dim=4096, hidden_dim_1=2048, hidden_dim_2=1024, output_dim=5).to(\"cuda\")\n",
    "criterion = nn.CrossEntropyLoss()\n",
    "\n",
    "optimizer = optim.AdamW(model.parameters(), lr=1e-2) # , weight_decay=1e-5\n",
    "# scheduler = torch.optim.lr_scheduler.ExponentialLR(optimizer, gamma=0.631)"
   ],
   "id": "f7ba23f94693ff07",
   "outputs": [],
   "execution_count": 11
  },
  {
   "metadata": {
    "ExecuteTime": {
     "end_time": "2024-12-14T00:20:18.317340Z",
     "start_time": "2024-12-14T00:20:18.315114Z"
    }
   },
   "cell_type": "code",
   "source": [
    "class FlatLRScheduler(_LRScheduler):\n",
    "    def __init__(self, optimizer: Optimizer, schedule: list, last_epoch: int = -1):\n",
    "        \"\"\"\n",
    "        Custom Learning Rate Scheduler.\n",
    "\n",
    "        Args:\n",
    "            optimizer (Optimizer): Wrapped optimizer.\n",
    "            schedule (list): List of tuples defining (epoch_range, lr_value).\n",
    "                             Example: [(9, 1e-3), (8, 1e-4), (8, 1e-5)]\n",
    "            last_epoch (int): The index of the last epoch. Default is -1.\n",
    "        \"\"\"\n",
    "        self.schedule = []\n",
    "        total_epochs = 0\n",
    "        for epochs, lr in schedule:\n",
    "            total_epochs += epochs\n",
    "            self.schedule.append((total_epochs, lr))\n",
    "        super().__init__(optimizer, last_epoch)\n",
    "\n",
    "    def get_lr(self):\n",
    "        current_epoch = self.last_epoch + 1\n",
    "        for end_epoch, lr in self.schedule:\n",
    "            if current_epoch <= end_epoch:\n",
    "                return [lr for _ in self.optimizer.param_groups]\n",
    "        raise ValueError(f\"Epoch {current_epoch} is out of range for the provided schedule.\")\n",
    "\n",
    "# Define the schedule: [(9 epochs at 1e-3), (8 epochs at 1e-4), (8 epochs at 1e-5)]\n",
    "# schedule = [(1, 1e-3), (10, 1e-4),(10, 5e-5), (100, 1e-5)] # THIS SHOULD BE ONE LONGER THAN NUM_EPOCHS TO AVOID OFF BY ONE ERROR\n",
    "# schedule = [(1, 1e-3), (1, 1e-4),(10, 1e-5), (100, 1e-6)] # THIS SHOULD BE ONE LONGER THAN NUM_EPOCHS TO AVOID OFF BY ONE ERROR\n",
    "schedule = [(10, 1e-2), (10, 1e-3),(10, 1e-4), (100, 1e-5)] # THIS SHOULD BE ONE LONGER THAN NUM_EPOCHS TO AVOID OFF BY ONE ERROR\n",
    "\n",
    "# Initialize the custom scheduler\n",
    "scheduler = FlatLRScheduler(optimizer, schedule)\n"
   ],
   "id": "18e5af77dcffd4f2",
   "outputs": [],
   "execution_count": 12
  },
  {
   "metadata": {
    "ExecuteTime": {
     "end_time": "2024-12-14T00:20:18.357469Z",
     "start_time": "2024-12-14T00:20:18.356171Z"
    }
   },
   "cell_type": "code",
   "source": [
    "# from torch.optim.lr_scheduler import ReduceLROnPlateau\n",
    "# scheduler = ReduceLROnPlateau(\n",
    "#     optimizer,\n",
    "#     mode='min',       # Use 'min' if your metric is loss; 'max' if accuracy or some metric you want to maximize\n",
    "#     factor=0.1,       # Factor by which the learning rate will be reduced (new_lr = lr * factor)\n",
    "#     patience=10,      # Number of epochs to wait before reducing LR\n",
    "#     threshold=1e-4,   # Threshold for measuring improvement\n",
    "#     verbose=True      # Prints a message when the LR is reduced\n",
    "# )"
   ],
   "id": "696910872b26203f",
   "outputs": [],
   "execution_count": 13
  },
  {
   "metadata": {
    "ExecuteTime": {
     "end_time": "2024-12-14T00:20:18.400783Z",
     "start_time": "2024-12-14T00:20:18.399Z"
    }
   },
   "cell_type": "code",
   "source": [
    "# Training and evaluation loops\n",
    "def evaluate(model, data_loader):\n",
    "    model.eval()\n",
    "    correct = 0\n",
    "    total = 0\n",
    "    with torch.no_grad():\n",
    "        for X, y in data_loader:\n",
    "            X = X.to(\"cuda\")\n",
    "            y = y.to(\"cuda\")\n",
    "            outputs = model(X)\n",
    "            _, predicted = torch.max(outputs, 1)\n",
    "            correct += (predicted + 1 == y).sum().item()  # Adjust prediction for 1-based indexing\n",
    "            total += y.size(0)\n",
    "    accuracy = correct / total\n",
    "    return accuracy\n"
   ],
   "id": "da543e2e70d4c22",
   "outputs": [],
   "execution_count": 14
  },
  {
   "metadata": {
    "ExecuteTime": {
     "end_time": "2024-12-14T00:20:18.443194Z",
     "start_time": "2024-12-14T00:20:18.441920Z"
    }
   },
   "cell_type": "code",
   "source": [
    "# num_epochs = 10\n",
    "num_epochs = 5\n",
    "# log_interval = 1_500\n",
    "# log_interval = 3332"
   ],
   "id": "d6f1844af62c2d21",
   "outputs": [],
   "execution_count": 15
  },
  {
   "metadata": {
    "ExecuteTime": {
     "end_time": "2024-12-14T00:20:18.485627Z",
     "start_time": "2024-12-14T00:20:18.484346Z"
    }
   },
   "cell_type": "code",
   "source": "",
   "id": "3fef264b409e0ebb",
   "outputs": [],
   "execution_count": null
  },
  {
   "metadata": {
    "ExecuteTime": {
     "end_time": "2024-12-14T00:20:18.528825Z",
     "start_time": "2024-12-14T00:20:18.527496Z"
    }
   },
   "cell_type": "code",
   "source": "",
   "id": "1bbc31056e290047",
   "outputs": [],
   "execution_count": null
  },
  {
   "metadata": {
    "ExecuteTime": {
     "end_time": "2024-12-14T00:21:03.812929Z",
     "start_time": "2024-12-14T00:20:18.570016Z"
    }
   },
   "cell_type": "code",
   "source": [
    "step = 0\n",
    "\n",
    "train_losses = []\n",
    "eval_accuracies = []\n",
    "learning_rates = []  # New list to track learning rates\n",
    "\n",
    "for epoch in range(num_epochs):\n",
    "    current_lr = optimizer.param_groups[0]['lr']\n",
    "    learning_rates.append((epoch, current_lr))\n",
    "    # learning_rates.append(current_lr)\n",
    "\n",
    "    model.train()\n",
    "\n",
    "    running_loss = 0.0\n",
    "    for X, y in tqdm(train_loader, desc=f\"Epoch {epoch + 1}/{num_epochs}\"):\n",
    "\n",
    "        X = X.to(\"cuda\")\n",
    "        y = y.to(\"cuda\")\n",
    "        # Forward pass\n",
    "        outputs = model(X)\n",
    "        loss = criterion(outputs, y - 1)  # Shift labels for 0-based indexing during training\n",
    "\n",
    "        # Backward pass and optimization\n",
    "        optimizer.zero_grad()\n",
    "        loss.backward()\n",
    "        optimizer.step()\n",
    "\n",
    "        running_loss += loss.item()*X.shape[0]\n",
    "        step += 1\n",
    "\n",
    "    train_losses.append(running_loss / len(train_loader))\n",
    "    scheduler.step()\n",
    "\n",
    "\n",
    "    # Log progress every epoch\n",
    "    eval_accuracy = evaluate(model, test_loader)\n",
    "    eval_accuracies.append((step, eval_accuracy))\n",
    "    print(f\"Epoch {epoch+1}, Eval Accuracy: {eval_accuracy:.4f}\")\n",
    "\n",
    "    # scheduler.step(eval_accuracy)\n",
    "\n"
   ],
   "id": "3cb0b966268ee29",
   "outputs": [
    {
     "data": {
      "text/plain": [
       "Epoch 1/5:   0%|          | 0/831 [00:00<?, ?it/s]"
      ],
      "application/vnd.jupyter.widget-view+json": {
       "version_major": 2,
       "version_minor": 0,
       "model_id": "08d6d28ae95a42b582fe82d36c8ae787"
      }
     },
     "metadata": {},
     "output_type": "display_data"
    },
    {
     "name": "stdout",
     "output_type": "stream",
     "text": [
      "Epoch 1, Eval Accuracy: 0.7169\n"
     ]
    },
    {
     "data": {
      "text/plain": [
       "Epoch 2/5:   0%|          | 0/831 [00:00<?, ?it/s]"
      ],
      "application/vnd.jupyter.widget-view+json": {
       "version_major": 2,
       "version_minor": 0,
       "model_id": "5a74fbb77fa44d3abf87ee1a47c2ce21"
      }
     },
     "metadata": {},
     "output_type": "display_data"
    },
    {
     "name": "stdout",
     "output_type": "stream",
     "text": [
      "Epoch 2, Eval Accuracy: 0.7229\n"
     ]
    },
    {
     "data": {
      "text/plain": [
       "Epoch 3/5:   0%|          | 0/831 [00:00<?, ?it/s]"
      ],
      "application/vnd.jupyter.widget-view+json": {
       "version_major": 2,
       "version_minor": 0,
       "model_id": "fc5343c337b14d09b3a62ed52b0c4720"
      }
     },
     "metadata": {},
     "output_type": "display_data"
    },
    {
     "name": "stdout",
     "output_type": "stream",
     "text": [
      "Epoch 3, Eval Accuracy: 0.7271\n"
     ]
    },
    {
     "data": {
      "text/plain": [
       "Epoch 4/5:   0%|          | 0/831 [00:00<?, ?it/s]"
      ],
      "application/vnd.jupyter.widget-view+json": {
       "version_major": 2,
       "version_minor": 0,
       "model_id": "f2e0e5fa71484ee88c88a6ae5f4589a5"
      }
     },
     "metadata": {},
     "output_type": "display_data"
    },
    {
     "name": "stdout",
     "output_type": "stream",
     "text": [
      "Epoch 4, Eval Accuracy: 0.7226\n"
     ]
    },
    {
     "data": {
      "text/plain": [
       "Epoch 5/5:   0%|          | 0/831 [00:00<?, ?it/s]"
      ],
      "application/vnd.jupyter.widget-view+json": {
       "version_major": 2,
       "version_minor": 0,
       "model_id": "b84f829a3ae647aebb9e4872841dc7e8"
      }
     },
     "metadata": {},
     "output_type": "display_data"
    },
    {
     "name": "stdout",
     "output_type": "stream",
     "text": [
      "Epoch 5, Eval Accuracy: 0.7243\n"
     ]
    }
   ],
   "execution_count": 16
  },
  {
   "metadata": {
    "ExecuteTime": {
     "end_time": "2024-12-14T00:21:03.857654Z",
     "start_time": "2024-12-14T00:21:03.855946Z"
    }
   },
   "cell_type": "code",
   "source": [
    "# # FIRST TRY, GARBAGE\n",
    "# step = 0\n",
    "#\n",
    "# train_losses = []\n",
    "# eval_accuracies = []\n",
    "# learning_rates = []  # New list to track learning rates\n",
    "#\n",
    "# for epoch in range(num_epochs):\n",
    "#     current_lr = optimizer.param_groups[0]['lr']\n",
    "#     learning_rates.append((epoch, current_lr))\n",
    "#     # learning_rates.append(current_lr)\n",
    "#\n",
    "#     model.train()\n",
    "#     pbar = tqdm(train_loader, desc=f\"Epoch {epoch + 1}/{num_epochs}\")\n",
    "#     running_loss = 0.0\n",
    "#\n",
    "#     for X, y in pbar:\n",
    "#         X = X.to(\"cuda\")\n",
    "#         y = y.to(\"cuda\")\n",
    "#         # Forward pass\n",
    "#         outputs = model(X)\n",
    "#         loss = criterion(outputs, y - 1)  # Shift labels for 0-based indexing during training\n",
    "#\n",
    "#         # Backward pass and optimization\n",
    "#         optimizer.zero_grad()\n",
    "#         loss.backward()\n",
    "#         optimizer.step()\n",
    "#\n",
    "#\n",
    "#         running_loss += loss.item()\n",
    "#         step += 1\n",
    "#\n",
    "#         # Log progress every log_interval steps\n",
    "#         if step % log_interval == 0:\n",
    "#             eval_accuracy = evaluate(model, test_loader)\n",
    "#             eval_accuracies.append((step, eval_accuracy))\n",
    "#             print(f\"Step {step}, Loss: {loss.item():.4f}, Eval Accuracy: {eval_accuracy:.4f}\")\n",
    "#\n",
    "#     train_losses.append(running_loss / len(train_loader))\n",
    "#     scheduler.step()\n",
    "#\n"
   ],
   "id": "af019d7a8ce3fc35",
   "outputs": [],
   "execution_count": 17
  },
  {
   "metadata": {
    "ExecuteTime": {
     "end_time": "2024-12-14T00:21:04.047837Z",
     "start_time": "2024-12-14T00:21:03.897742Z"
    }
   },
   "cell_type": "code",
   "source": [
    "# Plot training loss and evaluation accuracy\n",
    "plt.figure(figsize=(10, 5))\n",
    "plt.subplot(1, 2, 1)\n",
    "plt.plot(train_losses, label=\"Training Loss\")\n",
    "plt.xlabel(\"Epoch\")\n",
    "plt.ylabel(\"Loss\")\n",
    "plt.legend()\n",
    "plt.title(\"Training Loss\")\n",
    "\n",
    "plt.subplot(1, 2, 2)\n",
    "steps, accuracies = zip(*eval_accuracies)\n",
    "plt.plot(steps, accuracies, label=\"Evaluation Accuracy\")\n",
    "plt.xlabel(\"Step\")\n",
    "plt.ylabel(\"Accuracy\")\n",
    "plt.legend()\n",
    "plt.title(\"Evaluation Accuracy\")\n",
    "\n",
    "plt.tight_layout()\n",
    "plt.show()\n"
   ],
   "id": "326b72659e895102",
   "outputs": [
    {
     "data": {
      "text/plain": [
       "<Figure size 1000x500 with 2 Axes>"
      ],
      "image/png": "[encoded data removed]"
     },
     "metadata": {},
     "output_type": "display_data"
    }
   ],
   "execution_count": 18
  },
  {
   "metadata": {
    "ExecuteTime": {
     "end_time": "2024-12-14T00:21:04.215561Z",
     "start_time": "2024-12-14T00:21:04.057535Z"
    }
   },
   "cell_type": "code",
   "source": [
    "epochs, lrs = zip(*learning_rates)\n",
    "plt.figure(figsize=(10, 5))\n",
    "plt.plot(epochs, lrs, 'b-')\n",
    "plt.yscale('log')\n",
    "plt.xlabel('Epoch')\n",
    "plt.ylabel('Learning Rate')\n",
    "plt.title('Learning Rate Schedule')\n",
    "plt.grid(True)\n",
    "plt.show()"
   ],
   "id": "b2270458b47fdd03",
   "outputs": [
    {
     "data": {
      "text/plain": [
       "<Figure size 1000x500 with 1 Axes>"
      ],
      "image/png": "[encoded data removed]"
     },
     "metadata": {},
     "output_type": "display_data"
    }
   ],
   "execution_count": 19
  },
  {
   "metadata": {
    "ExecuteTime": {
     "end_time": "2024-12-14T00:21:04.227033Z",
     "start_time": "2024-12-14T00:21:04.225962Z"
    }
   },
   "cell_type": "code",
   "source": "",
   "id": "cf97d72c6af20ec8",
   "outputs": [],
   "execution_count": null
  },
  {
   "metadata": {
    "ExecuteTime": {
     "end_time": "2024-12-14T00:21:04.268253Z",
     "start_time": "2024-12-14T00:21:04.267138Z"
    }
   },
   "cell_type": "code",
   "source": [
    "def evaluate(model, data_loader):\n",
    "    model.eval()\n",
    "    correct = 0\n",
    "    total = 0\n",
    "    with torch.no_grad():\n",
    "        for X, y in data_loader:\n",
    "            X = X.to(\"cuda\")\n",
    "            y = y.to(\"cuda\")\n",
    "            outputs = model(X)\n",
    "            _, predicted = torch.max(outputs, 1)\n",
    "            correct += (predicted + 1 == y).sum().item()  # Adjust prediction for 1-based indexing\n",
    "            total += y.size(0)\n",
    "    accuracy = correct / total\n",
    "    return accuracy"
   ],
   "id": "6301dfee3aef6d3d",
   "outputs": [],
   "execution_count": null
  },
  {
   "metadata": {
    "ExecuteTime": {
     "end_time": "2024-12-14T00:21:04.310113Z",
     "start_time": "2024-12-14T00:21:04.308999Z"
    }
   },
   "cell_type": "code",
   "source": "",
   "id": "aae4c83faa5238c2",
   "outputs": [],
   "execution_count": null
  },
  {
   "metadata": {
    "ExecuteTime": {
     "end_time": "2024-12-14T00:21:04.352561Z",
     "start_time": "2024-12-14T00:21:04.351155Z"
    }
   },
   "cell_type": "code",
   "source": "val_loader = DataLoader(val, batch_size=batch_size, shuffle=False)",
   "id": "b0cf261934014d5c",
   "outputs": [],
   "execution_count": 20
  },
  {
   "metadata": {
    "ExecuteTime": {
     "end_time": "2024-12-14T00:22:57.383623Z",
     "start_time": "2024-12-14T00:22:57.360293Z"
    }
   },
   "cell_type": "code",
   "source": [
    "predictions = []\n",
    "correct_values = []\n",
    "model.eval()\n",
    "with torch.no_grad():\n",
    "    for batch_x, batch_y in tqdm(val_loader, desc=\"Hit Rate Eval\", unit=\"batch\"):\n",
    "        # batch_y = torch.argmax(batch_y, dim=1)\n",
    "\n",
    "        batch_x = batch_x.to(\"cuda\")\n",
    "        batch_y = batch_y.to(\"cuda\")\n",
    "\n",
    "        pred = model(batch_x)\n",
    "\n",
    "        # Compute hit rate\n",
    "        y_pred_classes = torch.argmax(torch.softmax(pred, dim=1), dim=1)\n",
    "        # y_true_classes = torch.argmax(batch_y, dim=1) # TK TK ADD BACK FOR EMD\n",
    "\n",
    "        for i in [i.item() for i in torch.argmax(torch.softmax(pred, dim=1), dim=1)]:\n",
    "            predictions.append(i+1)\n",
    "        for i in [i.item() for i in batch_y]: # torch.argmax(batch_y, dim=1):\n",
    "            correct_values.append(i)"
   ],
   "id": "eb52c1fee0384f16",
   "outputs": [
    {
     "data": {
      "text/plain": [
       "Hit Rate Eval:   0%|          | 0/1 [00:00<?, ?batch/s]"
      ],
      "application/vnd.jupyter.widget-view+json": {
       "version_major": 2,
       "version_minor": 0,
       "model_id": "0415a7505a9a4a10bdd994d35e46c5ab"
      }
     },
     "metadata": {},
     "output_type": "display_data"
    }
   ],
   "execution_count": 31
  },
  {
   "metadata": {
    "ExecuteTime": {
     "end_time": "2024-12-14T00:22:58.199788Z",
     "start_time": "2024-12-14T00:22:58.197686Z"
    }
   },
   "cell_type": "code",
   "source": [
    "df = pl.DataFrame({\"true\": correct_values, \"predicted\": predictions})\n",
    "df.write_csv(\"../output/predictions/mymethod00.csv\")"
   ],
   "id": "f92b1a0512daf36",
   "outputs": [],
   "execution_count": 32
  },
  {
   "metadata": {
    "ExecuteTime": {
     "end_time": "2024-12-14T00:22:58.724381Z",
     "start_time": "2024-12-14T00:22:58.722190Z"
    }
   },
   "cell_type": "code",
   "source": [
    "n,d=0,0\n",
    "for a, b in zip(df[\"true\"].to_list(), df[\"predicted\"].to_list()):\n",
    "    if a==b:\n",
    "        n=n+1\n",
    "    d=d+1\n",
    "n/d"
   ],
   "id": "3770ab12b41769d8",
   "outputs": [
    {
     "data": {
      "text/plain": [
       "0.7200392927308448"
      ]
     },
     "execution_count": 33,
     "metadata": {},
     "output_type": "execute_result"
    }
   ],
   "execution_count": 33
  },
  {
   "metadata": {
    "ExecuteTime": {
     "end_time": "2024-12-14T00:22:59.382675Z",
     "start_time": "2024-12-14T00:22:59.380582Z"
    }
   },
   "cell_type": "code",
   "source": "min(df[\"predicted\"]), max(df[\"predicted\"])",
   "id": "67bda65418bc8726",
   "outputs": [
    {
     "data": {
      "text/plain": [
       "(1, 5)"
      ]
     },
     "execution_count": 34,
     "metadata": {},
     "output_type": "execute_result"
    }
   ],
   "execution_count": 34
  },
  {
   "metadata": {
    "ExecuteTime": {
     "end_time": "2024-12-14T00:22:59.838603Z",
     "start_time": "2024-12-14T00:22:59.836453Z"
    }
   },
   "cell_type": "code",
   "source": "min(df[\"true\"]), max(df[\"true\"])",
   "id": "27c41f1df1bef691",
   "outputs": [
    {
     "data": {
      "text/plain": [
       "(1, 5)"
      ]
     },
     "execution_count": 35,
     "metadata": {},
     "output_type": "execute_result"
    }
   ],
   "execution_count": 35
  }
 ],
 "metadata": {
  "kernelspec": {
   "display_name": "Python 3",
   "language": "python",
   "name": "python3"
  },
  "language_info": {
   "codemirror_mode": {
    "name": "ipython",
    "version": 2
   },
   "file_extension": ".py",
   "mimetype": "text/x-python",
   "name": "python",
   "nbconvert_exporter": "python",
   "pygments_lexer": "ipython2",
   "version": "2.7.6"
  }
 },
 "nbformat": 4,
 "nbformat_minor": 5
}
