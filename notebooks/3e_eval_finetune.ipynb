{
 "cells": [
  {
   "cell_type": "code",
   "id": "initial_id",
   "metadata": {
    "collapsed": true,
    "ExecuteTime": {
     "end_time": "2024-12-13T15:27:48.328770Z",
     "start_time": "2024-12-13T15:27:46.722069Z"
    }
   },
   "source": [
    "# standard python imports\n",
    "import os\n",
    "# import pandas as pd\n",
    "import torch\n",
    "\n",
    "# huggingface libraries\n",
    "\n",
    "from transformers import (\n",
    "    AutoModelForCausalLM,\n",
    "    AutoTokenizer,\n",
    "    BitsAndBytesConfig,\n",
    "    # HfArgumentParser,\n",
    "    # TrainingArguments,\n",
    "    pipeline,\n",
    "    # logging,\n",
    "    LlamaForCausalLM\n",
    ")\n",
    "from peft import (\n",
    "#     LoraConfig,\n",
    "    PeftModel,\n",
    "#     prepare_model_for_kbit_training,\n",
    "#     get_peft_model,\n",
    ")\n",
    "from datasets import load_dataset, Dataset\n",
    "# from trl import SFTTrainer, setup_chat_format\n",
    "\n",
    "# import wandb\n",
    "\n",
    "import polars as pl\n",
    "# import pandas as pd\n",
    "\n",
    "from transformers.pipelines.pt_utils import KeyDataset"
   ],
   "outputs": [],
   "execution_count": 1
  },
  {
   "metadata": {
    "ExecuteTime": {
     "end_time": "2024-12-13T15:27:48.333310Z",
     "start_time": "2024-12-13T15:27:48.331582Z"
    }
   },
   "cell_type": "code",
   "source": [
    "def create_prompt(review):\n",
    "    system_prompt = f\"You read Yelp reviews and return a number (1, 2, 3, 4, or 5) that represents your besst guess of the number of star ratings that were given by that reviewer. Return just the number 1, 2, 3, 4, or 5, with no context, explanation, or special symbols.\"\n",
    "    prompt = f\"Here is the review to evaluate: [[[{review}]]]. Remember, you read Yelp reviews and return a number (1, 2, 3, 4, or 5) that represents your besst guess of the number of star ratings that were given by that reviewer. Return just the number 1, 2, 3, 4, or 5, with no context, explanation, or special symbols.\"\n",
    "        \n",
    "    return system_prompt, prompt"
   ],
   "id": "1a69d01046c63b8f",
   "outputs": [],
   "execution_count": 2
  },
  {
   "metadata": {
    "ExecuteTime": {
     "end_time": "2024-12-13T15:27:48.384375Z",
     "start_time": "2024-12-13T15:27:48.379813Z"
    }
   },
   "cell_type": "code",
   "source": [
    "# df_train = pl.read_csv(\"../data/1_train_test_split/df_train.csv\")\n",
    "df_val = pl.read_csv(\"../data/1_train_test_split/df_validation.csv\")"
   ],
   "id": "dd217abf75548e67",
   "outputs": [],
   "execution_count": 3
  },
  {
   "metadata": {
    "ExecuteTime": {
     "end_time": "2024-12-13T15:27:48.427444Z",
     "start_time": "2024-12-13T15:27:48.421317Z"
    }
   },
   "cell_type": "code",
   "source": [
    "lst_system_prompt, lst_prompt = [], []\n",
    "for row in df_val.iter_rows(named=True):\n",
    "    system_prompt, prompt = create_prompt(row[\"text\"])\n",
    "    lst_system_prompt.append(system_prompt)\n",
    "    lst_prompt.append(prompt)\n",
    "df_val = df_val.with_columns(pl.Series(lst_system_prompt).alias(\"system_prompt\"), pl.Series(lst_prompt).alias(\"prompt\"))"
   ],
   "id": "58e55d8b46dc33ac",
   "outputs": [],
   "execution_count": 4
  },
  {
   "metadata": {
    "ExecuteTime": {
     "end_time": "2024-12-13T15:27:48.475791Z",
     "start_time": "2024-12-13T15:27:48.468Z"
    }
   },
   "cell_type": "code",
   "source": [
    "test_texts = df_val[\"text\"].to_list()\n",
    "test_labels = df_val[\"stars\"].to_list()\n",
    "\n",
    "data_ = Dataset.from_polars(df_val)"
   ],
   "id": "19ac07b2242dd0af",
   "outputs": [],
   "execution_count": 5
  },
  {
   "metadata": {
    "ExecuteTime": {
     "end_time": "2024-12-13T15:27:48.513490Z",
     "start_time": "2024-12-13T15:27:48.512255Z"
    }
   },
   "cell_type": "code",
   "source": "# !ls /home/richardarcher/Dropbox/Sci24_LLM_Polarization/project_/weights_local/models--meta-llama--Meta-Llama-3.1-8B-Instruct/snapshots/0e9e39f249a16976918f6564b8830bc894c89659",
   "id": "529877df60b0dca",
   "outputs": [],
   "execution_count": 6
  },
  {
   "metadata": {
    "ExecuteTime": {
     "end_time": "2024-12-13T15:27:48.556309Z",
     "start_time": "2024-12-13T15:27:48.555076Z"
    }
   },
   "cell_type": "code",
   "source": "base_model = \"/home/richardarcher/Dropbox/Sci24_LLM_Polarization/project_/weights_local/models--meta-llama--Meta-Llama-3.1-8B-Instruct/snapshots/0e9e39f249a16976918f6564b8830bc894c89659\"",
   "id": "37e6d55334f5b694",
   "outputs": [],
   "execution_count": 7
  },
  {
   "metadata": {},
   "cell_type": "markdown",
   "source": "# HERE",
   "id": "55b6ef50bc876a01"
  },
  {
   "metadata": {
    "ExecuteTime": {
     "end_time": "2024-12-13T15:29:44.416215Z",
     "start_time": "2024-12-13T15:29:44.143337Z"
    }
   },
   "cell_type": "code",
   "source": "!ls ../weights/sft/run02",
   "id": "d7e2152c7b751041",
   "outputs": [
    {
     "name": "stdout",
     "output_type": "stream",
     "text": [
      "checkpoint-1000   checkpoint-10500  checkpoint-2000\r\n",
      "checkpoint-10000  checkpoint-1500   checkpoint-2500\r\n"
     ]
    }
   ],
   "execution_count": 23
  },
  {
   "metadata": {
    "ExecuteTime": {
     "end_time": "2024-12-13T15:27:48.598254Z",
     "start_time": "2024-12-13T15:27:48.596980Z"
    }
   },
   "cell_type": "code",
   "source": [
    "# PATH_adapter_custom_weights = \"../weights/sft/run00/checkpoint-1000/\"\n",
    "# PATH_adapter_custom_weights = \"../weights/sft/run01/checkpoint-1000/\"\n",
    "# PATH_adapter_custom_weights = \"../weights/sft/run01/checkpoint-10000/\"\n",
    "# PATH_adapter_custom_weights = \"../weights/sft/run01/checkpoint-20000/\"\n",
    "# PATH_adapter_custom_weights = \"../weights/sft/run01/checkpoint-29000/\"\n",
    "\n",
    "\n",
    "# PATH_adapter_custom_weights = \"../weights/sft/run02/checkpoint-1000/\"\n",
    "# PATH_adapter_custom_weights = \"../weights/sft/run02/checkpoint-3000/\"\n",
    "# PATH_adapter_custom_weights = \"../weights/sft/run02/checkpoint-9000/\"\n",
    "PATH_adapter_custom_weights = \"../weights/sft/run02/checkpoint-10000/\"\n",
    "# PATH_adapter_custom_weights = \"../weights/sft/run02/checkpoint-1000/\""
   ],
   "id": "3b16b06ddeb2a463",
   "outputs": [],
   "execution_count": 8
  },
  {
   "metadata": {
    "ExecuteTime": {
     "end_time": "2024-12-13T15:27:48.827523Z",
     "start_time": "2024-12-13T15:27:48.639058Z"
    }
   },
   "cell_type": "code",
   "source": [
    "tokenizer = AutoTokenizer.from_pretrained(\n",
    "    base_model,\n",
    "    tokenizer_file=os.path.join(base_model, 'tokenizer.json'),\n",
    "    tokenizer_config_file=os.path.join(base_model, 'tokenizer_config.json'),\n",
    "    special_tokens_map_file=os.path.join(base_model, 'special_tokens_map.json'),\n",
    "    trust_remote_code=True,\n",
    "    padding_side='left'\n",
    ")\n",
    "\n",
    "tokenizer.padding_side = 'left'"
   ],
   "id": "b30b22b7c82e8852",
   "outputs": [],
   "execution_count": 9
  },
  {
   "metadata": {
    "ExecuteTime": {
     "end_time": "2024-12-13T15:27:54.358197Z",
     "start_time": "2024-12-13T15:27:48.837407Z"
    }
   },
   "cell_type": "code",
   "source": [
    "nf4_config = BitsAndBytesConfig(\n",
    "    load_in_4bit=True,\n",
    "    # load_in_8bit=True,\n",
    "    bnb_4bit_quant_type=\"nf4\",\n",
    "    bnb_4bit_compute_dtype=torch.float16,  # Match input dtype\n",
    "\n",
    ")\n",
    "\n",
    "model = LlamaForCausalLM.from_pretrained(base_model, quantization_config=nf4_config)"
   ],
   "id": "c277d54a99697aaa",
   "outputs": [
    {
     "name": "stderr",
     "output_type": "stream",
     "text": [
      "`low_cpu_mem_usage` was None, now default to True since model is quantized.\n"
     ]
    },
    {
     "data": {
      "text/plain": [
       "Loading checkpoint shards:   0%|          | 0/4 [00:00<?, ?it/s]"
      ],
      "application/vnd.jupyter.widget-view+json": {
       "version_major": 2,
       "version_minor": 0,
       "model_id": "a2f37ed976a2457a86733bc0e1d9748d"
      }
     },
     "metadata": {},
     "output_type": "display_data"
    }
   ],
   "execution_count": 10
  },
  {
   "metadata": {
    "ExecuteTime": {
     "end_time": "2024-12-13T15:27:55.812021Z",
     "start_time": "2024-12-13T15:27:54.370974Z"
    }
   },
   "cell_type": "code",
   "source": [
    "model = PeftModel.from_pretrained(model, PATH_adapter_custom_weights)\n",
    "model = model.merge_and_unload() # This line merges the weights"
   ],
   "id": "b093843d6a7a734b",
   "outputs": [
    {
     "name": "stderr",
     "output_type": "stream",
     "text": [
      "/home/richardarcher/miniconda3/envs/gofaster00/lib/python3.12/site-packages/peft/tuners/lora/bnb.py:336: UserWarning: Merge lora module to 4-bit linear may get different generations due to rounding errors.\n",
      "  warnings.warn(\n"
     ]
    }
   ],
   "execution_count": 11
  },
  {
   "metadata": {
    "ExecuteTime": {
     "end_time": "2024-12-13T15:27:55.825815Z",
     "start_time": "2024-12-13T15:27:55.824346Z"
    }
   },
   "cell_type": "code",
   "source": [
    "if not tokenizer.pad_token_id:\n",
    "    tokenizer.pad_token_id = tokenizer.eos_token_id\n",
    "if model.config.pad_token_id is None:\n",
    "    model.config.pad_token_id = model.config.eos_token_id"
   ],
   "id": "47304be292554fd5",
   "outputs": [],
   "execution_count": 12
  },
  {
   "metadata": {
    "ExecuteTime": {
     "end_time": "2024-12-13T15:27:55.866918Z",
     "start_time": "2024-12-13T15:27:55.865311Z"
    }
   },
   "cell_type": "code",
   "source": [
    "def remove_header(text, K_times):\n",
    "    for _ in range(K_times):\n",
    "        if \"<|end_header_id|>\" in text:\n",
    "            text = text.split(\"<|end_header_id|>\", 1)[1]\n",
    "    return text"
   ],
   "id": "6f469e982841cc6a",
   "outputs": [],
   "execution_count": 13
  },
  {
   "metadata": {
    "ExecuteTime": {
     "end_time": "2024-12-13T15:27:55.909755Z",
     "start_time": "2024-12-13T15:27:55.908093Z"
    }
   },
   "cell_type": "code",
   "source": [
    "def create_format_chat_template(tokenizer):\n",
    "    def format_chat_template(row):\n",
    "        row_json = [{\"role\": \"system\", \"content\": row[\"system_prompt\"]},\n",
    "                    {\"role\": \"user\", \"content\": row[\"prompt\"]}]\n",
    "\n",
    "        # row[\"text\"] = tokenizer.apply_chat_template(row_json, tokenize=False)\n",
    "        row[\"text\"] = tokenizer.apply_chat_template(row_json, tokenize=False, add_generation_prompt=True)\n",
    "        return row\n",
    "    return format_chat_template"
   ],
   "id": "7a224b5d123ec1cd",
   "outputs": [],
   "execution_count": 14
  },
  {
   "metadata": {
    "ExecuteTime": {
     "end_time": "2024-12-13T15:27:55.952760Z",
     "start_time": "2024-12-13T15:27:55.951272Z"
    }
   },
   "cell_type": "code",
   "source": "batch_size = 16",
   "id": "83a81c70c7841d9c",
   "outputs": [],
   "execution_count": 15
  },
  {
   "metadata": {
    "ExecuteTime": {
     "end_time": "2024-12-13T15:27:55.996057Z",
     "start_time": "2024-12-13T15:27:55.994185Z"
    }
   },
   "cell_type": "code",
   "source": [
    "pipe = pipeline(\n",
    "    \"text-generation\",\n",
    "    model=model,\n",
    "    tokenizer=tokenizer,\n",
    "    # torch_dtype=torch.float32,\n",
    "    torch_dtype=torch.float16,\n",
    "    device_map=\"auto\",\n",
    "    batch_size=batch_size, # CHANGE TO FOUR IF TOO SLOW\n",
    "    max_new_tokens=5,\n",
    ")"
   ],
   "id": "6757cf10b573d793",
   "outputs": [],
   "execution_count": 16
  },
  {
   "metadata": {
    "ExecuteTime": {
     "end_time": "2024-12-13T15:27:56.154249Z",
     "start_time": "2024-12-13T15:27:56.037215Z"
    }
   },
   "cell_type": "code",
   "source": [
    "data_ = data_.map(\n",
    "    create_format_chat_template(tokenizer)\n",
    ")"
   ],
   "id": "3b8f2678c135fa66",
   "outputs": [
    {
     "data": {
      "text/plain": [
       "Map:   0%|          | 0/1018 [00:00<?, ? examples/s]"
      ],
      "application/vnd.jupyter.widget-view+json": {
       "version_major": 2,
       "version_minor": 0,
       "model_id": "90048fc66b7d48f6b7f6e3cb48b79640"
      }
     },
     "metadata": {},
     "output_type": "display_data"
    }
   ],
   "execution_count": 17
  },
  {
   "metadata": {
    "ExecuteTime": {
     "end_time": "2024-12-13T15:29:28.262910Z",
     "start_time": "2024-12-13T15:27:56.167038Z"
    }
   },
   "cell_type": "code",
   "source": [
    "res = []\n",
    "ix = 0 \n",
    "for out in pipe(KeyDataset(data_, \"text\")):\n",
    "    ix = ix + 1\n",
    "    # print(ix)\n",
    "    if ix % batch_size == 0:\n",
    "        print(f\"{ix}/{data_.shape[0]}\")\n",
    "    \n",
    "    cleaned_text = remove_header(out[0][\"generated_text\"], 3).strip()\n",
    "    res.append(cleaned_text)"
   ],
   "id": "72f3f866c60f5fde",
   "outputs": [
    {
     "name": "stdout",
     "output_type": "stream",
     "text": [
      "16/1018\n",
      "32/1018\n",
      "48/1018\n",
      "64/1018\n",
      "80/1018\n",
      "96/1018\n",
      "112/1018\n",
      "128/1018\n",
      "144/1018\n",
      "160/1018\n",
      "176/1018\n",
      "192/1018\n",
      "208/1018\n",
      "224/1018\n",
      "240/1018\n",
      "256/1018\n",
      "272/1018\n",
      "288/1018\n",
      "304/1018\n",
      "320/1018\n",
      "336/1018\n",
      "352/1018\n",
      "368/1018\n",
      "384/1018\n",
      "400/1018\n",
      "416/1018\n",
      "432/1018\n",
      "448/1018\n",
      "464/1018\n",
      "480/1018\n",
      "496/1018\n",
      "512/1018\n",
      "528/1018\n",
      "544/1018\n",
      "560/1018\n",
      "576/1018\n",
      "592/1018\n",
      "608/1018\n",
      "624/1018\n",
      "640/1018\n",
      "656/1018\n",
      "672/1018\n",
      "688/1018\n",
      "704/1018\n",
      "720/1018\n",
      "736/1018\n",
      "752/1018\n",
      "768/1018\n",
      "784/1018\n",
      "800/1018\n",
      "816/1018\n",
      "832/1018\n",
      "848/1018\n",
      "864/1018\n",
      "880/1018\n",
      "896/1018\n",
      "912/1018\n",
      "928/1018\n",
      "944/1018\n",
      "960/1018\n",
      "976/1018\n",
      "992/1018\n",
      "1008/1018\n"
     ]
    }
   ],
   "execution_count": 18
  },
  {
   "metadata": {
    "ExecuteTime": {
     "end_time": "2024-12-13T15:29:28.289124Z",
     "start_time": "2024-12-13T15:29:28.287778Z"
    }
   },
   "cell_type": "code",
   "source": "res_int = [int(i) for i in res]",
   "id": "d2eb106b7339e996",
   "outputs": [],
   "execution_count": 19
  },
  {
   "metadata": {
    "ExecuteTime": {
     "end_time": "2024-12-13T15:29:28.321721Z",
     "start_time": "2024-12-13T15:29:28.319646Z"
    }
   },
   "cell_type": "code",
   "source": [
    "right, total = 0, 0\n",
    "for pred, actual in zip(res_int, test_labels):\n",
    "    if pred==actual:\n",
    "        right += 1\n",
    "    total += 1\n",
    "\n",
    "print(right/total)"
   ],
   "id": "62c003e68002c8dc",
   "outputs": [
    {
     "name": "stdout",
     "output_type": "stream",
     "text": [
      "0.7269155206286837\n"
     ]
    }
   ],
   "execution_count": 20
  },
  {
   "metadata": {
    "ExecuteTime": {
     "end_time": "2024-12-13T15:29:28.419947Z",
     "start_time": "2024-12-13T15:29:28.418492Z"
    }
   },
   "cell_type": "code",
   "source": "df_val = df_val.with_columns(pl.Series(res_int).alias(\"8b_quant_prediction\"))",
   "id": "c2e62ef238a608f7",
   "outputs": [],
   "execution_count": 21
  },
  {
   "metadata": {
    "ExecuteTime": {
     "end_time": "2024-12-13T15:29:28.463360Z",
     "start_time": "2024-12-13T15:29:28.462050Z"
    }
   },
   "cell_type": "code",
   "source": [
    "# df_val.write_csv(\"../data/3_outputs/8b_quantized_predictions_for_eval_set_check20000.csv\")\n",
    "# df_val.write_csv(\"../data/3_outputs/run02_8b_quantized_predictions_for_eval_set_check1000.csv\")\n",
    "# df_val.write_csv(\"../data/3_outputs/run02_8b_quantized_predictions_for_eval_set_check3000.csv\")\n",
    "# df_val.write_csv(\"../data/3_outputs/run02_8b_quantized_predictions_for_eval_set_check9000.csv\")\n",
    "# df_val.write_csv(\"../data/3_outputs/run02_8b_quantized_predictions_for_eval_set_check10000.csv\")"
   ],
   "id": "7d54d132fafc5ed3",
   "outputs": [],
   "execution_count": 22
  }
 ],
 "metadata": {
  "kernelspec": {
   "display_name": "Python 3",
   "language": "python",
   "name": "python3"
  },
  "language_info": {
   "codemirror_mode": {
    "name": "ipython",
    "version": 2
   },
   "file_extension": ".py",
   "mimetype": "text/x-python",
   "name": "python",
   "nbconvert_exporter": "python",
   "pygments_lexer": "ipython2",
   "version": "2.7.6"
  }
 },
 "nbformat": 4,
 "nbformat_minor": 5
}
